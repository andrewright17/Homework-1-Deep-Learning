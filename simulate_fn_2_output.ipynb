{
  "cells": [
    {
      "cell_type": "markdown",
      "metadata": {
        "id": "view-in-github",
        "colab_type": "text"
      },
      "source": [
        "<a href=\"https://colab.research.google.com/github/andrewright17/Homework-1-Deep-Learning/blob/main/simulate_fn_2_output.ipynb\" target=\"_parent\"><img src=\"https://colab.research.google.com/assets/colab-badge.svg\" alt=\"Open In Colab\"/></a>"
      ]
    },
    {
      "cell_type": "markdown",
      "metadata": {
        "id": "-zRkbJa1gGDi"
      },
      "source": [
        "# HW 1-1 Simulate Function\n",
        "## Function 2\n",
        "\n",
        "The function we are simulating in this notebook is,\n",
        "\n",
        "$$\n",
        "f(x) = \\frac{x^3e^{(x/10)}}{15}\n",
        "$$"
      ]
    },
    {
      "cell_type": "markdown",
      "metadata": {
        "id": "aCYMUtBhjyZ6"
      },
      "source": [
        "## Import Libraries And Check GPU"
      ]
    },
    {
      "cell_type": "code",
      "execution_count": 1,
      "metadata": {
        "colab": {
          "base_uri": "https://localhost:8080/"
        },
        "id": "tbnPAgB5f64Q",
        "outputId": "f0f4d5ae-e707-4ce9-b218-40083c44b61e"
      },
      "outputs": [
        {
          "output_type": "execute_result",
          "data": {
            "text/plain": [
              "<torch._C.Generator at 0x7dffe4199210>"
            ]
          },
          "metadata": {},
          "execution_count": 1
        }
      ],
      "source": [
        "### import libraries\n",
        "import torch\n",
        "import torch.nn as nn\n",
        "import torch.optim as optim\n",
        "from torch.utils.data import DataLoader, TensorDataset\n",
        "import numpy as np\n",
        "import pandas as pd\n",
        "import matplotlib.pyplot as plt\n",
        "import itertools\n",
        "\n",
        "# set random seed\n",
        "torch.manual_seed(42)"
      ]
    },
    {
      "cell_type": "code",
      "execution_count": 26,
      "metadata": {
        "id": "VeOofoDxjyZ8",
        "outputId": "c9f3aa83-fb60-4e4a-cf78-ce3d39992493",
        "colab": {
          "base_uri": "https://localhost:8080/",
          "height": 448
        }
      },
      "outputs": [
        {
          "output_type": "execute_result",
          "data": {
            "text/plain": [
              "[<matplotlib.lines.Line2D at 0x7dfed8ef7370>]"
            ]
          },
          "metadata": {},
          "execution_count": 26
        },
        {
          "output_type": "display_data",
          "data": {
            "text/plain": [
              "<Figure size 640x480 with 1 Axes>"
            ],
            "image/png": "[encoded data removed]"
          },
          "metadata": {}
        }
      ],
      "source": [
        "def fn(x):\n",
        "    return ((x**3)*np.exp(x/10))/15\n",
        "xvec = np.linspace(-10,10,1000)\n",
        "yvec = fn(xvec)\n",
        "plt.plot(xvec,yvec)"
      ]
    },
    {
      "cell_type": "code",
      "execution_count": 3,
      "metadata": {
        "id": "46fX7syFjyZ8",
        "outputId": "f76b471f-8c30-43fb-be37-f20af5be74f6",
        "colab": {
          "base_uri": "https://localhost:8080/"
        }
      },
      "outputs": [
        {
          "output_type": "stream",
          "name": "stdout",
          "text": [
            "Device cuda\n"
          ]
        }
      ],
      "source": [
        "device = torch.device(\"cuda\") if torch.cuda.is_available() else torch.device(\"cpu\")\n",
        "print(\"Device\", device)\n",
        "if torch.cuda.is_available():\n",
        "    torch.cuda.manual_seed(42)\n",
        "    torch.cuda.manual_seed_all(42)"
      ]
    },
    {
      "cell_type": "markdown",
      "metadata": {
        "id": "g7Nor0dljyZ9"
      },
      "source": [
        "## Define Function and Generate Training Data"
      ]
    },
    {
      "cell_type": "code",
      "execution_count": 4,
      "metadata": {
        "id": "-M67NR_Of64X"
      },
      "outputs": [],
      "source": [
        "### Define second function\n",
        "# Define the function to approximate\n",
        "def fn2(x):\n",
        "    return ((x**3)*torch.exp(x/10))/15"
      ]
    },
    {
      "cell_type": "code",
      "execution_count": 5,
      "metadata": {
        "id": "f708_nm5f64X"
      },
      "outputs": [],
      "source": [
        "### Generate training data\n",
        "x_train = torch.linspace(-10, 10, 2000).unsqueeze(1)\n",
        "y_train = fn2(x_train)\n",
        "\n",
        "# validation data\n",
        "x_test = torch.linspace(-10, 10, 100).unsqueeze(1)\n",
        "x_test = x_test.to(device)\n",
        "y_test = fn2(x_test)"
      ]
    },
    {
      "cell_type": "markdown",
      "metadata": {
        "id": "qmswK39Ukhkb"
      },
      "source": [
        "## Model Class"
      ]
    },
    {
      "cell_type": "code",
      "execution_count": 6,
      "metadata": {
        "id": "vKDbbNfVkg-a"
      },
      "outputs": [],
      "source": [
        "class model_class(nn.Module):\n",
        "    def __init__(self, input_size, output_size, hidden_sizes=None):\n",
        "        super(model_class, self).__init__()\n",
        "\n",
        "        # Store model architecture parameters\n",
        "        self.input_size = input_size\n",
        "        self.output_size = output_size\n",
        "        self.hidden_sizes = hidden_sizes or []\n",
        "\n",
        "        # Create layers\n",
        "        layers = []\n",
        "        in_features = input_size\n",
        "        for h_size in hidden_sizes:\n",
        "            layers.append(nn.Linear(in_features, h_size))\n",
        "            layers.append(nn.ReLU())  # Add activation after each hidden layer\n",
        "            in_features = h_size\n",
        "        layers.append(nn.Linear(in_features, output_size))\n",
        "        self.layers = nn.ModuleList(layers)\n",
        "\n",
        "    def forward(self, x):\n",
        "        # Forward pass through the layers\n",
        "        for layer in self.layers:\n",
        "            x = layer(x)\n",
        "        return x\n"
      ]
    },
    {
      "cell_type": "markdown",
      "metadata": {
        "id": "KI41HMVojyZ9"
      },
      "source": [
        "## Training Function"
      ]
    },
    {
      "cell_type": "code",
      "execution_count": 7,
      "metadata": {
        "id": "he2J1YcRixDA"
      },
      "outputs": [],
      "source": [
        "def train_model(model, X_train, Y_train, batch, epochs, learning_rate):\n",
        "  # send data to device\n",
        "  X_train, Y_train = X_train.to(device), Y_train.to(device)\n",
        "\n",
        "  # load training data for model 1\n",
        "  data_loader = DataLoader(TensorDataset(X_train,Y_train), batch_size=batch, shuffle = True)\n",
        "\n",
        "  # Create optimizer and loss function\n",
        "  optimizer = optim.Adam(model.parameters(), lr = learning_rate)\n",
        "  loss_fn = nn.MSELoss()\n",
        "\n",
        "  # Send model to device\n",
        "  model.to(device)\n",
        "\n",
        "  # Training loop for model 1\n",
        "  loss_vec = []\n",
        "  for epoch in range(epochs):\n",
        "      epoch_loss = 0.0\n",
        "      for i,data in enumerate(data_loader):\n",
        "          x_batch, y_batch = data\n",
        "          optimizer.zero_grad()\n",
        "      #print(x_train.shape)\n",
        "          y_pred = model(x_batch)\n",
        "          loss = loss_fn(y_pred, y_batch)\n",
        "          loss.backward()\n",
        "          optimizer.step()\n",
        "          epoch_loss += loss.item()\n",
        "      loss_vec.append(epoch_loss)\n",
        "  return loss_vec\n"
      ]
    },
    {
      "cell_type": "markdown",
      "metadata": {
        "id": "OMYTPCr6jyZ9"
      },
      "source": [
        "## Hyperparameter Tuning and Training"
      ]
    },
    {
      "cell_type": "code",
      "execution_count": 8,
      "metadata": {
        "id": "3701984njyZ-"
      },
      "outputs": [],
      "source": [
        "# Define hyperparameter grid\n",
        "hyperparameter_grid = {\n",
        "    'batch_size': [8, 16, 32, 64],\n",
        "    'learning_rate': [0.0001, 0.001, 0.01, 0.1]\n",
        "}"
      ]
    },
    {
      "cell_type": "code",
      "execution_count": 9,
      "metadata": {
        "id": "cPazxh69jyZ-",
        "outputId": "b0f4fbdc-e748-4601-91c3-1ac625157699",
        "colab": {
          "base_uri": "https://localhost:8080/"
        }
      },
      "outputs": [
        {
          "output_type": "stream",
          "name": "stdout",
          "text": [
            "MSE: 17.667531967163086, batch_size: 8, lr: 0.0001\n",
            "MSE: 0.2813880443572998, batch_size: 8, lr: 0.001\n",
            "MSE: 2.9992330074310303, batch_size: 8, lr: 0.01\n",
            "MSE: 3.470799446105957, batch_size: 8, lr: 0.1\n",
            "MSE: 103.05406951904297, batch_size: 16, lr: 0.0001\n",
            "MSE: 0.10814590007066727, batch_size: 16, lr: 0.001\n",
            "MSE: 0.5055844187736511, batch_size: 16, lr: 0.01\n",
            "MSE: 2.1226985454559326, batch_size: 16, lr: 0.1\n",
            "MSE: 203.36622619628906, batch_size: 32, lr: 0.0001\n",
            "MSE: 1.1897398233413696, batch_size: 32, lr: 0.001\n",
            "MSE: 3.3163137435913086, batch_size: 32, lr: 0.01\n",
            "MSE: 0.49750930070877075, batch_size: 32, lr: 0.1\n",
            "MSE: 368.2030334472656, batch_size: 64, lr: 0.0001\n",
            "MSE: 3.766376256942749, batch_size: 64, lr: 0.001\n",
            "MSE: 1.1778364181518555, batch_size: 64, lr: 0.01\n",
            "MSE: 0.2250833809375763, batch_size: 64, lr: 0.1\n",
            "Best validation score: 0.1081\n",
            "Best batch size: 16\n",
            "Best learning rate: 0.001\n"
          ]
        }
      ],
      "source": [
        "# Initialize best model and best validation score\n",
        "best_model = None\n",
        "best_mse = float('inf')\n",
        "\n",
        "# Iterate through hyperparameter combinations using itertools.product\n",
        "for batch_size, learning_rate in itertools.product(*hyperparameter_grid.values()):\n",
        "    # Create model instance\n",
        "    model1 = model_class(input_size = 1, output_size = 1, hidden_sizes = [75,25])\n",
        "\n",
        "    # Train the model\n",
        "    model1_loss = train_model(model1, x_train, y_train, batch = batch_size, epochs = 100, learning_rate = learning_rate)\n",
        "\n",
        "    # Evaluate the model on validation set\n",
        "    mse = nn.functional.mse_loss(model1(x_test), y_test)  # Replace with your evaluation function\n",
        "    print(f\"MSE: {mse}, batch_size: {batch_size}, lr: {learning_rate}\")\n",
        "    # Update best model and score if necessary\n",
        "    if mse < best_mse:\n",
        "        best_model_loss = model1_loss\n",
        "        best_model = model1\n",
        "        best_mse = mse\n",
        "        best_batch_size = batch_size\n",
        "        best_learning_rate = learning_rate\n",
        "\n",
        "# Print best hyperparameters and score\n",
        "print(f\"Best validation score: {best_mse:.4f}\")\n",
        "print(f\"Best batch size: {best_batch_size}\")\n",
        "print(f\"Best learning rate: {best_learning_rate}\")"
      ]
    },
    {
      "cell_type": "code",
      "execution_count": 10,
      "metadata": {
        "id": "Z1cnsEaLjyZ-"
      },
      "outputs": [],
      "source": [
        "# assign model 1\n",
        "model1 = best_model\n",
        "model1_loss = best_model_loss"
      ]
    },
    {
      "cell_type": "code",
      "execution_count": 11,
      "metadata": {
        "id": "Pcy9NG8KjyZ-",
        "outputId": "4bd2dc3d-19f6-4ba5-84eb-9d8d5a8b6662",
        "colab": {
          "base_uri": "https://localhost:8080/"
        }
      },
      "outputs": [
        {
          "output_type": "stream",
          "name": "stdout",
          "text": [
            "MSE: 0.8158681392669678, batch_size: 8, lr: 0.0001\n",
            "MSE: 0.055464282631874084, batch_size: 8, lr: 0.001\n",
            "MSE: 0.6799328327178955, batch_size: 8, lr: 0.01\n",
            "MSE: 1832.938720703125, batch_size: 8, lr: 0.1\n",
            "MSE: 6.40192985534668, batch_size: 16, lr: 0.0001\n",
            "MSE: 3.1212146282196045, batch_size: 16, lr: 0.001\n",
            "MSE: 0.07010643929243088, batch_size: 16, lr: 0.01\n",
            "MSE: 451.0450744628906, batch_size: 16, lr: 0.1\n",
            "MSE: 14.742390632629395, batch_size: 32, lr: 0.0001\n",
            "MSE: 0.596867561340332, batch_size: 32, lr: 0.001\n",
            "MSE: 0.06121295318007469, batch_size: 32, lr: 0.01\n",
            "MSE: 26.265390396118164, batch_size: 32, lr: 0.1\n",
            "MSE: 110.20932006835938, batch_size: 64, lr: 0.0001\n",
            "MSE: 1.69268798828125, batch_size: 64, lr: 0.001\n",
            "MSE: 0.06135324016213417, batch_size: 64, lr: 0.01\n",
            "MSE: 1.3565446138381958, batch_size: 64, lr: 0.1\n",
            "Best validation score: 0.0555\n",
            "Best batch size: 8\n",
            "Best learning rate: 0.001\n"
          ]
        }
      ],
      "source": [
        "# Initialize best model and best validation score\n",
        "best_model = None\n",
        "best_mse = float('inf')\n",
        "\n",
        "# Iterate through hyperparameter combinations using itertools.product\n",
        "for batch_size, learning_rate in itertools.product(*hyperparameter_grid.values()):\n",
        "    # Create model instance\n",
        "    model2 = model_class(input_size = 1, output_size = 1, hidden_sizes = [17, 26, 25, 23, 12])\n",
        "\n",
        "    # Train the model\n",
        "    model2_loss = train_model(model2, x_train, y_train, batch = batch_size, epochs = 100, learning_rate = learning_rate)\n",
        "\n",
        "    # Evaluate the model on validation set\n",
        "    mse = nn.functional.mse_loss(model2(x_test), y_test)  # Replace with your evaluation function\n",
        "    print(f\"MSE: {mse}, batch_size: {batch_size}, lr: {learning_rate}\")\n",
        "    # Update best model and score if necessary\n",
        "    if mse < best_mse:\n",
        "        best_model_loss = model2_loss\n",
        "        best_model = model2\n",
        "        best_mse = mse\n",
        "        best_batch_size = batch_size\n",
        "        best_learning_rate = learning_rate\n",
        "\n",
        "# Print best hyperparameters and score\n",
        "print(f\"Best validation score: {best_mse:.4f}\")\n",
        "print(f\"Best batch size: {best_batch_size}\")\n",
        "print(f\"Best learning rate: {best_learning_rate}\")"
      ]
    },
    {
      "cell_type": "code",
      "execution_count": 12,
      "metadata": {
        "id": "j7My19NSjyZ-"
      },
      "outputs": [],
      "source": [
        "# assign model 2\n",
        "model2 = best_model\n",
        "model2_loss = best_model_loss"
      ]
    },
    {
      "cell_type": "code",
      "execution_count": 13,
      "metadata": {
        "id": "9X0aXmHGjyZ-",
        "outputId": "997bac34-6443-420b-ece5-cfd5f8d64be9",
        "colab": {
          "base_uri": "https://localhost:8080/"
        }
      },
      "outputs": [
        {
          "output_type": "stream",
          "name": "stdout",
          "text": [
            "MSE: 60.76613998413086, batch_size: 8, lr: 0.0001\n",
            "MSE: 0.07331142574548721, batch_size: 8, lr: 0.001\n",
            "MSE: 0.1624215543270111, batch_size: 8, lr: 0.01\n",
            "MSE: 7.339722156524658, batch_size: 8, lr: 0.1\n",
            "MSE: 136.14877319335938, batch_size: 16, lr: 0.0001\n",
            "MSE: 0.362467885017395, batch_size: 16, lr: 0.001\n",
            "MSE: 0.7158713936805725, batch_size: 16, lr: 0.01\n",
            "MSE: 1.2346895933151245, batch_size: 16, lr: 0.1\n",
            "MSE: 230.29019165039062, batch_size: 32, lr: 0.0001\n",
            "MSE: 2.4058258533477783, batch_size: 32, lr: 0.001\n",
            "MSE: 1.450743317604065, batch_size: 32, lr: 0.01\n",
            "MSE: 0.17631670832633972, batch_size: 32, lr: 0.1\n",
            "MSE: 330.4446716308594, batch_size: 64, lr: 0.0001\n",
            "MSE: 12.403975486755371, batch_size: 64, lr: 0.001\n",
            "MSE: 0.20562294125556946, batch_size: 64, lr: 0.01\n",
            "MSE: 1.866699457168579, batch_size: 64, lr: 0.1\n",
            "Best validation score: 0.0733\n",
            "Best batch size: 8\n",
            "Best learning rate: 0.001\n"
          ]
        }
      ],
      "source": [
        "# Initialize best model and best validation score\n",
        "best_model = None\n",
        "best_mse = float('inf')\n",
        "\n",
        "# Iterate through hyperparameter combinations using itertools.product\n",
        "for batch_size, learning_rate in itertools.product(*hyperparameter_grid.values()):\n",
        "    # Create model instance\n",
        "    model3 = model_class(1, 1, [692])\n",
        "\n",
        "    # Train the model\n",
        "    model3_loss = train_model(model3, x_train, y_train, batch = batch_size, epochs = 100, learning_rate = learning_rate)\n",
        "\n",
        "    # Evaluate the model on validation set\n",
        "    mse = nn.functional.mse_loss(model3(x_test), y_test)  # Replace with your evaluation function\n",
        "    print(f\"MSE: {mse}, batch_size: {batch_size}, lr: {learning_rate}\")\n",
        "    # Update best model and score if necessary\n",
        "    if mse < best_mse:\n",
        "        best_model_loss = model3_loss\n",
        "        best_model = model3\n",
        "        best_mse = mse\n",
        "        best_batch_size = batch_size\n",
        "        best_learning_rate = learning_rate\n",
        "\n",
        "# Print best hyperparameters and score\n",
        "print(f\"Best validation score: {best_mse:.4f}\")\n",
        "print(f\"Best batch size: {best_batch_size}\")\n",
        "print(f\"Best learning rate: {best_learning_rate}\")"
      ]
    },
    {
      "cell_type": "code",
      "execution_count": 14,
      "metadata": {
        "id": "gn31cHhQjyZ-"
      },
      "outputs": [],
      "source": [
        "# assign model 3\n",
        "model3 = best_model\n",
        "model3_loss = best_model_loss"
      ]
    },
    {
      "cell_type": "markdown",
      "metadata": {
        "id": "bQ7KHiB7jyZ_"
      },
      "source": [
        "## Model Evaluation and Plotting"
      ]
    },
    {
      "cell_type": "code",
      "execution_count": 25,
      "metadata": {
        "colab": {
          "base_uri": "https://localhost:8080/",
          "height": 843
        },
        "id": "4cM2rFt8nTlw",
        "outputId": "9a705874-7407-4ef5-858c-c4ea4073d347"
      },
      "outputs": [
        {
          "output_type": "display_data",
          "data": {
            "text/plain": [
              "<Figure size 640x480 with 1 Axes>"
            ],
            "image/png": "[encoded data removed]"
          },
          "metadata": {}
        },
        {
          "output_type": "display_data",
          "data": {
            "text/plain": [
              "<Figure size 640x480 with 1 Axes>"
            ],
            "image/png": "[encoded data removed]"
          },
          "metadata": {}
        }
      ],
      "source": [
        "# Evaluate the model\n",
        "x_test = torch.linspace(-10, 10, 100).unsqueeze(1)\n",
        "x_test = x_test.to(device)\n",
        "y_test = fn2(x_test)\n",
        "y_pred1 = model1(x_test)\n",
        "y_pred2 = model2(x_test)\n",
        "y_pred3 = model3(x_test)\n",
        "### Visualize plots\n",
        "plt.plot(x_test.cpu().detach(), y_test.cpu().detach(), label=\"True function\", color = 'black')\n",
        "plt.plot(x_test.cpu().detach(), y_pred1.cpu().detach(), label=\"Model 1\", color = 'orange', linestyle = 'dashed')\n",
        "plt.plot(x_test.cpu().detach(), y_pred2.cpu().detach(), label=\"Model 2\", color = 'blue', linestyle = 'dashed')\n",
        "plt.plot(x_test.cpu().detach(), y_pred3.cpu().detach(), label=\"Model 3\", color = 'green', linestyle = 'dashed')\n",
        "plt.legend()\n",
        "plt.show()\n",
        "plt.plot(np.arange(0,len(model1_loss),1),np.array(model1_loss), label=\"Model 1 loss\", color = 'orange')\n",
        "plt.plot(np.arange(0,len(model1_loss),1),np.array(model2_loss), label=\"Model 2 loss\", color = 'blue')\n",
        "plt.plot(np.arange(0,len(model1_loss),1),np.array(model3_loss), label=\"Model 3 loss\", color = 'green')\n",
        "#plt.ylim(0, 500)\n",
        "plt.legend()\n",
        "plt.show()"
      ]
    },
    {
      "cell_type": "code",
      "execution_count": 16,
      "metadata": {
        "colab": {
          "base_uri": "https://localhost:8080/"
        },
        "id": "ENikN3emsC3c",
        "outputId": "653eb448-91b4-4ae5-fcb2-873ee9b02dd4"
      },
      "outputs": [
        {
          "output_type": "stream",
          "name": "stdout",
          "text": [
            "Model 1 MSE: 0.10814590007066727\n",
            "Model 2 MSE: 0.055464282631874084\n",
            "Model 3 MSE: 0.07331142574548721\n"
          ]
        }
      ],
      "source": [
        "# print MSE for models on test set\n",
        "print(f\"Model 1 MSE: {nn.functional.mse_loss(y_pred1, y_test)}\")\n",
        "print(f\"Model 2 MSE: {nn.functional.mse_loss(y_pred2, y_test)}\")\n",
        "print(f\"Model 3 MSE: {nn.functional.mse_loss(y_pred3, y_test)}\")"
      ]
    },
    {
      "cell_type": "markdown",
      "metadata": {
        "id": "h3_Dd03-jyZ_"
      },
      "source": [
        "## Check Parameter Sizes"
      ]
    },
    {
      "cell_type": "code",
      "execution_count": 17,
      "metadata": {
        "colab": {
          "base_uri": "https://localhost:8080/"
        },
        "id": "2wzHww7Gt7VR",
        "outputId": "afa1a21c-38cd-439d-d9ca-45612fe90b9b"
      },
      "outputs": [
        {
          "output_type": "stream",
          "name": "stdout",
          "text": [
            "Model 1 parameters: 2076\n",
            "Model 1 parameters: 2076\n",
            "Model 3 parameters: 2077\n"
          ]
        }
      ],
      "source": [
        "### Check model parameters\n",
        "model1_parameters = filter(lambda p: p.requires_grad, model1.parameters())\n",
        "params1 = sum([np.prod(p.size()) for p in model1_parameters])\n",
        "print(f'Model 1 parameters: {params1}') #2076\n",
        "\n",
        "model2_parameters = filter(lambda p: p.requires_grad, model2.parameters())\n",
        "params2 = sum([np.prod(p.size()) for p in model2_parameters])\n",
        "print(f'Model 1 parameters: {params1}') #2076\n",
        "\n",
        "model3_parameters = filter(lambda p: p.requires_grad, model3.parameters())\n",
        "params3 = sum([np.prod(p.size()) for p in model3_parameters])\n",
        "print(f'Model 3 parameters: {params3}') #2077"
      ]
    }
  ],
  "metadata": {
    "accelerator": "GPU",
    "colab": {
      "gpuType": "T4",
      "provenance": [],
      "toc_visible": true,
      "include_colab_link": true
    },
    "kernelspec": {
      "display_name": "Python 3",
      "name": "python3"
    },
    "language_info": {
      "codemirror_mode": {
        "name": "ipython",
        "version": 3
      },
      "file_extension": ".py",
      "mimetype": "text/x-python",
      "name": "python",
      "nbconvert_exporter": "python",
      "pygments_lexer": "ipython3",
      "version": "3.11.5"
    }
  },
  "nbformat": 4,
  "nbformat_minor": 0
}