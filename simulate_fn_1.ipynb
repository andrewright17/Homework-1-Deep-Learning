{
  "cells": [
    {
      "cell_type": "markdown",
      "metadata": {
        "colab_type": "text",
        "id": "view-in-github"
      },
      "source": [
        "<a href=\"https://colab.research.google.com/github/andrewright17/Homework-1-Deep-Learning/blob/main/HW1_problem1_1_simulatefn.ipynb\" target=\"_parent\"><img src=\"https://colab.research.google.com/assets/colab-badge.svg\" alt=\"Open In Colab\"/></a>"
      ]
    },
    {
      "cell_type": "markdown",
      "metadata": {
        "id": "-zRkbJa1gGDi"
      },
      "source": [
        "# HW 1-1 Simulate Function\n",
        "## Function 1\n",
        "\n",
        "The function we are simulating in this notebook is,\n",
        "\n",
        "$$\n",
        "f(x) = 5\\sin^2(\\frac{x}{2})\n",
        "$$"
      ]
    },
    {
      "cell_type": "markdown",
      "metadata": {},
      "source": [
        "## Import Libraries And Check GPU"
      ]
    },
    {
      "cell_type": "code",
      "execution_count": 3,
      "metadata": {
        "colab": {
          "base_uri": "https://localhost:8080/"
        },
        "id": "tbnPAgB5f64Q",
        "outputId": "a8369d0c-92f6-40cb-bec3-1697912a5c3a"
      },
      "outputs": [
        {
          "data": {
            "text/plain": [
              "<torch._C.Generator at 0x1136e8e10>"
            ]
          },
          "execution_count": 3,
          "metadata": {},
          "output_type": "execute_result"
        }
      ],
      "source": [
        "### import libraries\n",
        "import torch\n",
        "import torch.nn as nn\n",
        "import torch.optim as optim\n",
        "from torch.utils.data import DataLoader, TensorDataset\n",
        "import numpy as np\n",
        "import pandas as pd\n",
        "import matplotlib.pyplot as plt\n",
        "import itertools\n",
        "\n",
        "# set random seed\n",
        "torch.manual_seed(42)"
      ]
    },
    {
      "cell_type": "code",
      "execution_count": 2,
      "metadata": {},
      "outputs": [
        {
          "name": "stdout",
          "output_type": "stream",
          "text": [
            "Device cpu\n"
          ]
        }
      ],
      "source": [
        "device = torch.device(\"cuda\") if torch.cuda.is_available() else torch.device(\"cpu\")\n",
        "print(\"Device\", device)\n",
        "if torch.cuda.is_available(): \n",
        "    torch.cuda.manual_seed(42)\n",
        "    torch.cuda.manual_seed_all(42)"
      ]
    },
    {
      "cell_type": "markdown",
      "metadata": {},
      "source": [
        "## Define Function and Generate Training Data"
      ]
    },
    {
      "cell_type": "code",
      "execution_count": 4,
      "metadata": {
        "id": "-M67NR_Of64X"
      },
      "outputs": [],
      "source": [
        "### Define first function\n",
        "# Define the function to approximate\n",
        "def fn1(x):\n",
        "    return 5*torch.sin(0.5*x)**2"
      ]
    },
    {
      "cell_type": "code",
      "execution_count": 5,
      "metadata": {
        "id": "f708_nm5f64X"
      },
      "outputs": [],
      "source": [
        "### Generate training data\n",
        "x_train = torch.linspace(-2 * torch.pi, 2 * torch.pi, 2000).unsqueeze(1)\n",
        "y_train = fn1(x_train)\n",
        "\n",
        "# validation data\n",
        "x_test = torch.linspace(-2 * torch.pi, 2 * torch.pi, 100).unsqueeze(1)\n",
        "x_test = x_test.to(device)\n",
        "y_test = fn1(x_test)"
      ]
    },
    {
      "cell_type": "markdown",
      "metadata": {
        "id": "qmswK39Ukhkb"
      },
      "source": [
        "## Model Class"
      ]
    },
    {
      "cell_type": "code",
      "execution_count": 4,
      "metadata": {
        "id": "vKDbbNfVkg-a"
      },
      "outputs": [],
      "source": [
        "class model_class(nn.Module):\n",
        "    def __init__(self, input_size, output_size, hidden_sizes=None):\n",
        "        super(model_class, self).__init__()\n",
        "\n",
        "        # Store model architecture parameters\n",
        "        self.input_size = input_size\n",
        "        self.output_size = output_size\n",
        "        self.hidden_sizes = hidden_sizes or []\n",
        "\n",
        "        # Create layers\n",
        "        layers = []\n",
        "        in_features = input_size\n",
        "        for h_size in hidden_sizes:\n",
        "            layers.append(nn.Linear(in_features, h_size))\n",
        "            layers.append(nn.ReLU())  # Add activation after each hidden layer\n",
        "            in_features = h_size\n",
        "        layers.append(nn.Linear(in_features, output_size))\n",
        "        self.layers = nn.ModuleList(layers)\n",
        "\n",
        "    def forward(self, x):\n",
        "        # Forward pass through the layers\n",
        "        for layer in self.layers:\n",
        "            x = layer(x)\n",
        "        return x\n"
      ]
    },
    {
      "cell_type": "markdown",
      "metadata": {},
      "source": [
        "## Training Function"
      ]
    },
    {
      "cell_type": "code",
      "execution_count": 18,
      "metadata": {
        "id": "he2J1YcRixDA"
      },
      "outputs": [],
      "source": [
        "def train_model(model, X_train, Y_train, batch, epochs, learning_rate):\n",
        "  # send data to device\n",
        "  X_train, Y_train = X_train.to(device), Y_train.to(device)\n",
        "\n",
        "  # load training data for model 1\n",
        "  data_loader = DataLoader(TensorDataset(X_train,Y_train), batch_size=batch, shuffle = True)\n",
        "\n",
        "  # Create optimizer and loss function\n",
        "  optimizer = optim.Adam(model.parameters(), lr = learning_rate)\n",
        "  loss_fn = nn.MSELoss()\n",
        "  \n",
        "  # Send model to device\n",
        "  model.to(device)\n",
        "\n",
        "  # Training loop for model 1\n",
        "  loss_vec = []\n",
        "  for epoch in range(epochs):\n",
        "      epoch_loss = 0.0\n",
        "      for i,data in enumerate(data_loader):\n",
        "          x_batch, y_batch = data\n",
        "          optimizer.zero_grad()\n",
        "      #print(x_train.shape)\n",
        "          y_pred = model(x_batch)\n",
        "          loss = loss_fn(y_pred, y_batch)\n",
        "          loss.backward()\n",
        "          optimizer.step()\n",
        "          epoch_loss += loss.item()\n",
        "      loss_vec.append(epoch_loss)\n",
        "  return loss_vec\n"
      ]
    },
    {
      "cell_type": "markdown",
      "metadata": {},
      "source": [
        "## Hyperparameter Tuning and Training"
      ]
    },
    {
      "cell_type": "code",
      "execution_count": null,
      "metadata": {},
      "outputs": [],
      "source": [
        "# Define hyperparameter grid\n",
        "hyperparameter_grid = {\n",
        "    'batch_size': [8, 16, 32, 64],\n",
        "    'learning_rate': [0.0001, 0.001, 0.01, 0.1]\n",
        "}"
      ]
    },
    {
      "cell_type": "code",
      "execution_count": null,
      "metadata": {},
      "outputs": [],
      "source": [
        "# Initialize best model and best validation score\n",
        "best_model = None\n",
        "best_mse = float('inf')\n",
        "\n",
        "# Iterate through hyperparameter combinations using itertools.product\n",
        "for batch_size, learning_rate in itertools.product(*hyperparameter_grid.values()):\n",
        "    # Create model instance\n",
        "    model1 = model_class(input_size = 1, output_size = 1, hidden_sizes = [75,25])\n",
        "\n",
        "    # Train the model\n",
        "    model1_loss = train_model(model1, x_train, y_train, batch = batch_size, epochs = 100, learning_rate = learning_rate)\n",
        "\n",
        "    # Evaluate the model on validation set\n",
        "    mse = nn.functional.mse_loss(model1(x_test), y_test)  # Replace with your evaluation function\n",
        "    print(f\"MSE: {mse}, batch_size: {batch_size}, lr: {learning_rate}\")\n",
        "    # Update best model and score if necessary\n",
        "    if mse < best_mse:\n",
        "        best_model_loss = model1_loss\n",
        "        best_model = model1\n",
        "        best_mse = mse\n",
        "        best_batch_size = batch_size\n",
        "        best_learning_rate = learning_rate\n",
        "\n",
        "# Print best hyperparameters and score\n",
        "print(f\"Best validation score: {best_mse:.4f}\")\n",
        "print(f\"Best batch size: {best_batch_size}\")\n",
        "print(f\"Best learning rate: {best_learning_rate}\")"
      ]
    },
    {
      "cell_type": "code",
      "execution_count": null,
      "metadata": {},
      "outputs": [],
      "source": [
        "# assign model 1\n",
        "model1 = best_model\n",
        "model1_loss = best_model_loss"
      ]
    },
    {
      "cell_type": "code",
      "execution_count": null,
      "metadata": {},
      "outputs": [],
      "source": [
        "# Initialize best model and best validation score\n",
        "best_model = None\n",
        "best_mse = float('inf')\n",
        "\n",
        "# Iterate through hyperparameter combinations using itertools.product\n",
        "for batch_size, learning_rate in itertools.product(*hyperparameter_grid.values()):\n",
        "    # Create model instance\n",
        "    model2 = model_class(input_size = 1, output_size = 1, hidden_sizes = [17, 26, 25, 23, 12])\n",
        "\n",
        "    # Train the model\n",
        "    model2_loss = train_model(model2, x_train, y_train, batch = batch_size, epochs = 100, learning_rate = learning_rate)\n",
        "\n",
        "    # Evaluate the model on validation set\n",
        "    mse = nn.functional.mse_loss(model2(x_test), y_test)  # Replace with your evaluation function\n",
        "    print(f\"MSE: {mse}, batch_size: {batch_size}, lr: {learning_rate}\")\n",
        "    # Update best model and score if necessary\n",
        "    if mse < best_mse:\n",
        "        best_model_loss = model2_loss\n",
        "        best_model = model2\n",
        "        best_mse = mse\n",
        "        best_batch_size = batch_size\n",
        "        best_learning_rate = learning_rate\n",
        "\n",
        "# Print best hyperparameters and score\n",
        "print(f\"Best validation score: {best_mse:.4f}\")\n",
        "print(f\"Best batch size: {best_batch_size}\")\n",
        "print(f\"Best learning rate: {best_learning_rate}\")"
      ]
    },
    {
      "cell_type": "code",
      "execution_count": null,
      "metadata": {},
      "outputs": [],
      "source": [
        "# assign model 2\n",
        "model2 = best_model\n",
        "model2_loss = best_model_loss"
      ]
    },
    {
      "cell_type": "code",
      "execution_count": null,
      "metadata": {},
      "outputs": [],
      "source": [
        "# Initialize best model and best validation score\n",
        "best_model = None\n",
        "best_mse = float('inf')\n",
        "\n",
        "# Iterate through hyperparameter combinations using itertools.product\n",
        "for batch_size, learning_rate in itertools.product(*hyperparameter_grid.values()):\n",
        "    # Create model instance\n",
        "    model3 = model_class(1, 1, [692])\n",
        "\n",
        "    # Train the model\n",
        "    model3_loss = train_model(model3, x_train, y_train, batch = batch_size, epochs = 100, learning_rate = learning_rate)\n",
        "\n",
        "    # Evaluate the model on validation set\n",
        "    mse = nn.functional.mse_loss(model3(x_test), y_test)  # Replace with your evaluation function\n",
        "    print(f\"MSE: {mse}, batch_size: {batch_size}, lr: {learning_rate}\")\n",
        "    # Update best model and score if necessary\n",
        "    if mse < best_mse:\n",
        "        best_model_loss = model3_loss\n",
        "        best_model = model3\n",
        "        best_mse = mse\n",
        "        best_batch_size = batch_size\n",
        "        best_learning_rate = learning_rate\n",
        "\n",
        "# Print best hyperparameters and score\n",
        "print(f\"Best validation score: {best_mse:.4f}\")\n",
        "print(f\"Best batch size: {best_batch_size}\")\n",
        "print(f\"Best learning rate: {best_learning_rate}\")"
      ]
    },
    {
      "cell_type": "code",
      "execution_count": null,
      "metadata": {},
      "outputs": [],
      "source": [
        "# assign model 3\n",
        "model3 = best_model\n",
        "model3_loss = best_model_loss"
      ]
    },
    {
      "cell_type": "markdown",
      "metadata": {},
      "source": [
        "## Model Evaluation and Plotting"
      ]
    },
    {
      "cell_type": "code",
      "execution_count": 26,
      "metadata": {
        "colab": {
          "base_uri": "https://localhost:8080/",
          "height": 843
        },
        "id": "4cM2rFt8nTlw",
        "outputId": "4224a4ba-869a-477e-cb3e-2f9fe6d191c8"
      },
      "outputs": [
        {
          "data": {
            "image/png": "[encoded data removed]",
            "text/plain": [
              "<Figure size 640x480 with 1 Axes>"
            ]
          },
          "metadata": {},
          "output_type": "display_data"
        },
        {
          "data": {
            "image/png": "[encoded data removed]",
            "text/plain": [
              "<Figure size 640x480 with 1 Axes>"
            ]
          },
          "metadata": {},
          "output_type": "display_data"
        }
      ],
      "source": [
        "# Evaluate the model\n",
        "x_test = torch.linspace(-2 * torch.pi, 2 * torch.pi, 100).unsqueeze(1)\n",
        "x_test = x_test.to(device)\n",
        "y_test = fn1(x_test)\n",
        "y_pred1 = model1(x_test)\n",
        "y_pred2 = model2(x_test)\n",
        "y_pred3 = model3(x_test)\n",
        "### Visualize plots\n",
        "plt.plot(x_test.cpu().detach(), y_test.cpu().detach(), label=\"True function\", color = 'black')\n",
        "plt.plot(x_test.cpu().detach(), y_pred1.cpu().detach(), label=\"Model 1\", color = 'orange', linestyle = 'dashed')\n",
        "plt.plot(x_test.cpu().detach(), y_pred2.cpu().detach(), label=\"Model 2\", color = 'blue', linestyle = 'dashed')\n",
        "plt.plot(x_test.cpu().detach(), y_pred3.cpu().detach(), label=\"Model 3\", color = 'green', linestyle = 'dashed')\n",
        "plt.legend()\n",
        "plt.show()\n",
        "plt.plot(np.arange(0,len(model1_loss),1),np.array(model1_loss), label=\"Model 1 loss\", color = 'orange')\n",
        "plt.plot(np.arange(0,len(model1_loss),1),np.array(model2_loss), label=\"Model 2 loss\", color = 'blue')\n",
        "plt.plot(np.arange(0,len(model1_loss),1),np.array(model3_loss), label=\"Model 3 loss\", color = 'green')\n",
        "plt.ylim(10**-5, 10)\n",
        "plt.legend()\n",
        "plt.show()"
      ]
    },
    {
      "cell_type": "code",
      "execution_count": 2,
      "metadata": {
        "colab": {
          "base_uri": "https://localhost:8080/"
        },
        "id": "ENikN3emsC3c",
        "outputId": "a295da5e-7415-4257-c470-69f7476cdc4b"
      },
      "outputs": [
        {
          "ename": "NameError",
          "evalue": "name 'y_pred1' is not defined",
          "output_type": "error",
          "traceback": [
            "\u001b[0;31m---------------------------------------------------------------------------\u001b[0m",
            "\u001b[0;31mNameError\u001b[0m                                 Traceback (most recent call last)",
            "Cell \u001b[0;32mIn[2], line 2\u001b[0m\n\u001b[1;32m      1\u001b[0m \u001b[38;5;66;03m# best loss is 0.0682 (batch_size = 4, epochs = 100, learning_rate = 0.001)\u001b[39;00m\n\u001b[0;32m----> 2\u001b[0m model1_valid \u001b[38;5;241m=\u001b[39m torch\u001b[38;5;241m.\u001b[39mmean(\u001b[38;5;28mabs\u001b[39m(y_pred1 \u001b[38;5;241m-\u001b[39m y_test)\u001b[38;5;241m*\u001b[39m\u001b[38;5;241m*\u001b[39m\u001b[38;5;241m2\u001b[39m)\n\u001b[1;32m      3\u001b[0m mse_test \u001b[38;5;241m=\u001b[39m nn\u001b[38;5;241m.\u001b[39mfunctional\u001b[38;5;241m.\u001b[39mMSELoss(y_pred1, y_test)\n\u001b[1;32m      4\u001b[0m \u001b[38;5;28mprint\u001b[39m(model1_valid)\n",
            "\u001b[0;31mNameError\u001b[0m: name 'y_pred1' is not defined"
          ]
        }
      ],
      "source": [
        "# print MSE for models on test set\n",
        "print(f\"Model 1 MSE: {nn.functional.mse_loss(y_pred1, y_test)}\")\n",
        "print(f\"Model 2 MSE: {nn.functional.mse_loss(y_pred2, y_test)}\")\n",
        "print(f\"Model 3 MSE: {nn.functional.mse_loss(y_pred3, y_test)}\")"
      ]
    },
    {
      "cell_type": "markdown",
      "metadata": {},
      "source": [
        "## Check Parameter Sizes"
      ]
    },
    {
      "cell_type": "code",
      "execution_count": 121,
      "metadata": {
        "colab": {
          "base_uri": "https://localhost:8080/"
        },
        "id": "2wzHww7Gt7VR",
        "outputId": "ee1634bf-c5d6-4fce-a825-2e99feeb7d79"
      },
      "outputs": [
        {
          "name": "stdout",
          "output_type": "stream",
          "text": [
            "2076\n",
            "2076\n",
            "2077\n"
          ]
        }
      ],
      "source": [
        "### Check model parameters\n",
        "model1_parameters = filter(lambda p: p.requires_grad, model1.parameters())\n",
        "params1 = sum([np.prod(p.size()) for p in model1_parameters])\n",
        "print(f'Model 1 parameters: {params1}') #2076\n",
        "\n",
        "model2_parameters = filter(lambda p: p.requires_grad, model2.parameters())\n",
        "params2 = sum([np.prod(p.size()) for p in model2_parameters])\n",
        "print(f'Model 2 parameters: {params2}') #2076\n",
        "\n",
        "model3_parameters = filter(lambda p: p.requires_grad, model3.parameters())\n",
        "params3 = sum([np.prod(p.size()) for p in model3_parameters])\n",
        "print(f'Model 3 parameters: {params3}') #2077"
      ]
    }
  ],
  "metadata": {
    "accelerator": "GPU",
    "colab": {
      "gpuType": "T4",
      "include_colab_link": true,
      "provenance": [],
      "toc_visible": true
    },
    "kernelspec": {
      "display_name": "Python 3",
      "name": "python3"
    },
    "language_info": {
      "codemirror_mode": {
        "name": "ipython",
        "version": 3
      },
      "file_extension": ".py",
      "mimetype": "text/x-python",
      "name": "python",
      "nbconvert_exporter": "python",
      "pygments_lexer": "ipython3",
      "version": "3.11.5"
    }
  },
  "nbformat": 4,
  "nbformat_minor": 0
}
