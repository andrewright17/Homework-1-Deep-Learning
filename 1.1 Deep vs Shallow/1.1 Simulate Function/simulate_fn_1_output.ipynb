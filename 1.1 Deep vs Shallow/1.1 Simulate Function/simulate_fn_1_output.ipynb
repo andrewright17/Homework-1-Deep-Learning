{
  "cells": [
    {
      "cell_type": "markdown",
      "metadata": {
        "colab_type": "text",
        "id": "view-in-github"
      },
      "source": [
        "<a href=\"https://colab.research.google.com/github/andrewright17/Homework-1-Deep-Learning/blob/main/simulate_fn_1_output.ipynb\" target=\"_parent\"><img src=\"https://colab.research.google.com/assets/colab-badge.svg\" alt=\"Open In Colab\"/></a>"
      ]
    },
    {
      "cell_type": "markdown",
      "metadata": {
        "id": "-zRkbJa1gGDi"
      },
      "source": [
        "# HW 1-1 Simulate Function\n",
        "## Function 1\n",
        "\n",
        "The function we are simulating in this notebook is,\n",
        "\n",
        "$$\n",
        "f(x) = 5\\sin^2(\\frac{x}{2})\n",
        "$$"
      ]
    },
    {
      "cell_type": "markdown",
      "metadata": {
        "id": "9R5upDqPrljd"
      },
      "source": [
        "## Import Libraries And Check GPU"
      ]
    },
    {
      "cell_type": "code",
      "execution_count": 1,
      "metadata": {
        "colab": {
          "base_uri": "https://localhost:8080/"
        },
        "id": "tbnPAgB5f64Q",
        "outputId": "8c639c48-0b91-4558-82fe-ae5a18df153f"
      },
      "outputs": [
        {
          "data": {
            "text/plain": [
              "<torch._C.Generator at 0x7f3e181a10f0>"
            ]
          },
          "execution_count": 1,
          "metadata": {},
          "output_type": "execute_result"
        }
      ],
      "source": [
        "### import libraries\n",
        "import torch\n",
        "import torch.nn as nn\n",
        "import torch.optim as optim\n",
        "from torch.utils.data import DataLoader, TensorDataset\n",
        "import numpy as np\n",
        "import pandas as pd\n",
        "import matplotlib.pyplot as plt\n",
        "import itertools\n",
        "\n",
        "# set random seed\n",
        "torch.manual_seed(42)"
      ]
    },
    {
      "cell_type": "code",
      "execution_count": 2,
      "metadata": {
        "colab": {
          "base_uri": "https://localhost:8080/"
        },
        "id": "Ftx7rgoLrljf",
        "outputId": "5f823b34-a839-4f6f-ab6e-01d5964521e5"
      },
      "outputs": [
        {
          "name": "stdout",
          "output_type": "stream",
          "text": [
            "Device cuda\n"
          ]
        }
      ],
      "source": [
        "device = torch.device(\"cuda\") if torch.cuda.is_available() else torch.device(\"cpu\")\n",
        "print(\"Device\", device)\n",
        "if torch.cuda.is_available():\n",
        "    torch.cuda.manual_seed(42)\n",
        "    torch.cuda.manual_seed_all(42)"
      ]
    },
    {
      "cell_type": "markdown",
      "metadata": {
        "id": "thiJnTzJrljf"
      },
      "source": [
        "## Define Function and Generate Training Data"
      ]
    },
    {
      "cell_type": "code",
      "execution_count": 3,
      "metadata": {
        "id": "-M67NR_Of64X"
      },
      "outputs": [],
      "source": [
        "### Define first function\n",
        "# Define the function to approximate\n",
        "def fn1(x):\n",
        "    return 5*torch.sin(0.5*x)**2"
      ]
    },
    {
      "cell_type": "code",
      "execution_count": 4,
      "metadata": {
        "id": "f708_nm5f64X"
      },
      "outputs": [],
      "source": [
        "### Generate training data\n",
        "x_train = torch.linspace(-2 * torch.pi, 2 * torch.pi, 2000).unsqueeze(1)\n",
        "y_train = fn1(x_train)\n",
        "\n",
        "# validation data\n",
        "x_test = torch.linspace(-2 * torch.pi, 2 * torch.pi, 100).unsqueeze(1)\n",
        "x_test = x_test.to(device)\n",
        "y_test = fn1(x_test)"
      ]
    },
    {
      "cell_type": "markdown",
      "metadata": {
        "id": "qmswK39Ukhkb"
      },
      "source": [
        "## Model Class"
      ]
    },
    {
      "cell_type": "code",
      "execution_count": 5,
      "metadata": {
        "id": "vKDbbNfVkg-a"
      },
      "outputs": [],
      "source": [
        "class model_class(nn.Module):\n",
        "    def __init__(self, input_size, output_size, hidden_sizes=None):\n",
        "        super(model_class, self).__init__()\n",
        "\n",
        "        # Store model architecture parameters\n",
        "        self.input_size = input_size\n",
        "        self.output_size = output_size\n",
        "        self.hidden_sizes = hidden_sizes or []\n",
        "\n",
        "        # Create layers\n",
        "        layers = []\n",
        "        in_features = input_size\n",
        "        for h_size in hidden_sizes:\n",
        "            layers.append(nn.Linear(in_features, h_size))\n",
        "            layers.append(nn.ReLU())  # Add activation after each hidden layer\n",
        "            in_features = h_size\n",
        "        layers.append(nn.Linear(in_features, output_size))\n",
        "        self.layers = nn.ModuleList(layers)\n",
        "\n",
        "    def forward(self, x):\n",
        "        # Forward pass through the layers\n",
        "        for layer in self.layers:\n",
        "            x = layer(x)\n",
        "        return x\n"
      ]
    },
    {
      "cell_type": "markdown",
      "metadata": {
        "id": "akFTkqmmrljg"
      },
      "source": [
        "## Training Function"
      ]
    },
    {
      "cell_type": "code",
      "execution_count": 6,
      "metadata": {
        "id": "he2J1YcRixDA"
      },
      "outputs": [],
      "source": [
        "def train_model(model, X_train, Y_train, batch, epochs, learning_rate):\n",
        "  # send data to device\n",
        "  X_train, Y_train = X_train.to(device), Y_train.to(device)\n",
        "\n",
        "  # load training data for model 1\n",
        "  data_loader = DataLoader(TensorDataset(X_train,Y_train), batch_size=batch, shuffle = True)\n",
        "\n",
        "  # Create optimizer and loss function\n",
        "  optimizer = optim.Adam(model.parameters(), lr = learning_rate)\n",
        "  loss_fn = nn.MSELoss()\n",
        "\n",
        "  # Send model to device\n",
        "  model.to(device)\n",
        "\n",
        "  # Training loop for model 1\n",
        "  loss_vec = []\n",
        "  for epoch in range(epochs):\n",
        "      epoch_loss = 0.0\n",
        "      for i,data in enumerate(data_loader):\n",
        "          x_batch, y_batch = data\n",
        "          optimizer.zero_grad()\n",
        "      #print(x_train.shape)\n",
        "          y_pred = model(x_batch)\n",
        "          loss = loss_fn(y_pred, y_batch)\n",
        "          loss.backward()\n",
        "          optimizer.step()\n",
        "          epoch_loss += loss.item()\n",
        "      loss_vec.append(epoch_loss)\n",
        "  return loss_vec\n"
      ]
    },
    {
      "cell_type": "markdown",
      "metadata": {
        "id": "Mp_Ynh_Trljg"
      },
      "source": [
        "## Hyperparameter Tuning and Training"
      ]
    },
    {
      "cell_type": "code",
      "execution_count": 7,
      "metadata": {
        "id": "tK5qY7VPrljg"
      },
      "outputs": [],
      "source": [
        "# Define hyperparameter grid\n",
        "hyperparameter_grid = {\n",
        "    'batch_size': [8, 16, 32, 64],\n",
        "    'learning_rate': [0.0001, 0.001, 0.01, 0.1]\n",
        "}"
      ]
    },
    {
      "cell_type": "code",
      "execution_count": 8,
      "metadata": {
        "colab": {
          "base_uri": "https://localhost:8080/"
        },
        "id": "7tIao05arljg",
        "outputId": "0b4cceb1-00f7-4983-c0f0-c5c712e9f4c3"
      },
      "outputs": [
        {
          "name": "stdout",
          "output_type": "stream",
          "text": [
            "MSE: 0.004888019058853388, batch_size: 8, lr: 0.0001\n",
            "MSE: 0.000418019131757319, batch_size: 8, lr: 0.001\n",
            "MSE: 0.004926261957734823, batch_size: 8, lr: 0.01\n",
            "MSE: 0.05544924736022949, batch_size: 8, lr: 0.1\n",
            "MSE: 0.020134862512350082, batch_size: 16, lr: 0.0001\n",
            "MSE: 0.0004442752688191831, batch_size: 16, lr: 0.001\n",
            "MSE: 0.0033265845850110054, batch_size: 16, lr: 0.01\n",
            "MSE: 2.1740291118621826, batch_size: 16, lr: 0.1\n",
            "MSE: 0.016575315967202187, batch_size: 32, lr: 0.0001\n",
            "MSE: 0.002074129180982709, batch_size: 32, lr: 0.001\n",
            "MSE: 0.0006174801965244114, batch_size: 32, lr: 0.01\n",
            "MSE: 3.1558756828308105, batch_size: 32, lr: 0.1\n",
            "MSE: 0.10703252255916595, batch_size: 64, lr: 0.0001\n",
            "MSE: 0.004371750634163618, batch_size: 64, lr: 0.001\n",
            "MSE: 0.003686028067022562, batch_size: 64, lr: 0.01\n",
            "MSE: 0.016759680584073067, batch_size: 64, lr: 0.1\n",
            "Best validation score: 0.0004\n",
            "Best batch size: 8\n",
            "Best learning rate: 0.001\n"
          ]
        }
      ],
      "source": [
        "# Initialize best model and best validation score\n",
        "best_model = None\n",
        "best_mse = float('inf')\n",
        "\n",
        "# Iterate through hyperparameter combinations using itertools.product\n",
        "for batch_size, learning_rate in itertools.product(*hyperparameter_grid.values()):\n",
        "    # Create model instance\n",
        "    model1 = model_class(input_size = 1, output_size = 1, hidden_sizes = [75,25])\n",
        "\n",
        "    # Train the model\n",
        "    model1_loss = train_model(model1, x_train, y_train, batch = batch_size, epochs = 100, learning_rate = learning_rate)\n",
        "\n",
        "    # Evaluate the model on validation set\n",
        "    mse = nn.functional.mse_loss(model1(x_test), y_test)  # Replace with your evaluation function\n",
        "    print(f\"MSE: {mse}, batch_size: {batch_size}, lr: {learning_rate}\")\n",
        "    # Update best model and score if necessary\n",
        "    if mse < best_mse:\n",
        "        best_model_loss = model1_loss\n",
        "        best_model = model1\n",
        "        best_mse = mse\n",
        "        best_batch_size = batch_size\n",
        "        best_learning_rate = learning_rate\n",
        "\n",
        "# Print best hyperparameters and score\n",
        "print(f\"Best validation score: {best_mse:.4f}\")\n",
        "print(f\"Best batch size: {best_batch_size}\")\n",
        "print(f\"Best learning rate: {best_learning_rate}\")"
      ]
    },
    {
      "cell_type": "code",
      "execution_count": 9,
      "metadata": {
        "id": "lojoiu_Orljh"
      },
      "outputs": [],
      "source": [
        "# assign model 1\n",
        "model1 = best_model\n",
        "model1_loss = best_model_loss"
      ]
    },
    {
      "cell_type": "code",
      "execution_count": 10,
      "metadata": {
        "colab": {
          "base_uri": "https://localhost:8080/"
        },
        "id": "39rKQoBYrljh",
        "outputId": "73be4e34-0c36-44fc-b8ff-8481938bec83"
      },
      "outputs": [
        {
          "name": "stdout",
          "output_type": "stream",
          "text": [
            "MSE: 0.0007826981018297374, batch_size: 8, lr: 0.0001\n",
            "MSE: 0.0005397465429268777, batch_size: 8, lr: 0.001\n",
            "MSE: 0.00033299002097919583, batch_size: 8, lr: 0.01\n",
            "MSE: 3.1711649894714355, batch_size: 8, lr: 0.1\n",
            "MSE: 0.0003399766865186393, batch_size: 16, lr: 0.0001\n",
            "MSE: 0.00014254530833568424, batch_size: 16, lr: 0.001\n",
            "MSE: 0.0018555006245151162, batch_size: 16, lr: 0.01\n",
            "MSE: 3.1625044345855713, batch_size: 16, lr: 0.1\n",
            "MSE: 0.0029954633209854364, batch_size: 32, lr: 0.0001\n",
            "MSE: 2.200077533721924, batch_size: 32, lr: 0.001\n",
            "MSE: 0.0014136077370494604, batch_size: 32, lr: 0.01\n",
            "MSE: 1.906171202659607, batch_size: 32, lr: 0.1\n",
            "MSE: 0.02532901242375374, batch_size: 64, lr: 0.0001\n",
            "MSE: 0.0006897156708873808, batch_size: 64, lr: 0.001\n",
            "MSE: 0.002806856529787183, batch_size: 64, lr: 0.01\n",
            "MSE: 3.1562647819519043, batch_size: 64, lr: 0.1\n",
            "Best validation score: 0.0001\n",
            "Best batch size: 16\n",
            "Best learning rate: 0.001\n"
          ]
        }
      ],
      "source": [
        "# Initialize best model and best validation score\n",
        "best_model = None\n",
        "best_mse = float('inf')\n",
        "\n",
        "# Iterate through hyperparameter combinations using itertools.product\n",
        "for batch_size, learning_rate in itertools.product(*hyperparameter_grid.values()):\n",
        "    # Create model instance\n",
        "    model2 = model_class(input_size = 1, output_size = 1, hidden_sizes = [17, 26, 25, 23, 12])\n",
        "\n",
        "    # Train the model\n",
        "    model2_loss = train_model(model2, x_train, y_train, batch = batch_size, epochs = 100, learning_rate = learning_rate)\n",
        "\n",
        "    # Evaluate the model on validation set\n",
        "    mse = nn.functional.mse_loss(model2(x_test), y_test)  # Replace with your evaluation function\n",
        "    print(f\"MSE: {mse}, batch_size: {batch_size}, lr: {learning_rate}\")\n",
        "    # Update best model and score if necessary\n",
        "    if mse < best_mse:\n",
        "        best_model_loss = model2_loss\n",
        "        best_model = model2\n",
        "        best_mse = mse\n",
        "        best_batch_size = batch_size\n",
        "        best_learning_rate = learning_rate\n",
        "\n",
        "# Print best hyperparameters and score\n",
        "print(f\"Best validation score: {best_mse:.4f}\")\n",
        "print(f\"Best batch size: {best_batch_size}\")\n",
        "print(f\"Best learning rate: {best_learning_rate}\")"
      ]
    },
    {
      "cell_type": "code",
      "execution_count": 11,
      "metadata": {
        "id": "RKzK1-JKrljh"
      },
      "outputs": [],
      "source": [
        "# assign model 2\n",
        "model2 = best_model\n",
        "model2_loss = best_model_loss"
      ]
    },
    {
      "cell_type": "code",
      "execution_count": 12,
      "metadata": {
        "colab": {
          "base_uri": "https://localhost:8080/"
        },
        "id": "AsNvVZKsrljh",
        "outputId": "410d3d33-9379-445b-c483-e4e62b1263a3"
      },
      "outputs": [
        {
          "name": "stdout",
          "output_type": "stream",
          "text": [
            "MSE: 0.023019086569547653, batch_size: 8, lr: 0.0001\n",
            "MSE: 0.0006415751995518804, batch_size: 8, lr: 0.001\n",
            "MSE: 0.02594606764614582, batch_size: 8, lr: 0.01\n",
            "MSE: 0.1198326051235199, batch_size: 8, lr: 0.1\n",
            "MSE: 0.027705974876880646, batch_size: 16, lr: 0.0001\n",
            "MSE: 0.039548952132463455, batch_size: 16, lr: 0.001\n",
            "MSE: 0.010745910927653313, batch_size: 16, lr: 0.01\n",
            "MSE: 0.0695117935538292, batch_size: 16, lr: 0.1\n",
            "MSE: 0.03219674900174141, batch_size: 32, lr: 0.0001\n",
            "MSE: 0.034712400287389755, batch_size: 32, lr: 0.001\n",
            "MSE: 0.023332417011260986, batch_size: 32, lr: 0.01\n",
            "MSE: 0.020308785140514374, batch_size: 32, lr: 0.1\n",
            "MSE: 0.16943831741809845, batch_size: 64, lr: 0.0001\n",
            "MSE: 0.03840342536568642, batch_size: 64, lr: 0.001\n",
            "MSE: 0.02102050743997097, batch_size: 64, lr: 0.01\n",
            "MSE: 0.05866066366434097, batch_size: 64, lr: 0.1\n",
            "Best validation score: 0.0006\n",
            "Best batch size: 8\n",
            "Best learning rate: 0.001\n"
          ]
        }
      ],
      "source": [
        "# Initialize best model and best validation score\n",
        "best_model = None\n",
        "best_mse = float('inf')\n",
        "\n",
        "# Iterate through hyperparameter combinations using itertools.product\n",
        "for batch_size, learning_rate in itertools.product(*hyperparameter_grid.values()):\n",
        "    # Create model instance\n",
        "    model3 = model_class(1, 1, [692])\n",
        "\n",
        "    # Train the model\n",
        "    model3_loss = train_model(model3, x_train, y_train, batch = batch_size, epochs = 100, learning_rate = learning_rate)\n",
        "\n",
        "    # Evaluate the model on validation set\n",
        "    mse = nn.functional.mse_loss(model3(x_test), y_test)  # Replace with your evaluation function\n",
        "    print(f\"MSE: {mse}, batch_size: {batch_size}, lr: {learning_rate}\")\n",
        "    # Update best model and score if necessary\n",
        "    if mse < best_mse:\n",
        "        best_model_loss = model3_loss\n",
        "        best_model = model3\n",
        "        best_mse = mse\n",
        "        best_batch_size = batch_size\n",
        "        best_learning_rate = learning_rate\n",
        "\n",
        "# Print best hyperparameters and score\n",
        "print(f\"Best validation score: {best_mse:.4f}\")\n",
        "print(f\"Best batch size: {best_batch_size}\")\n",
        "print(f\"Best learning rate: {best_learning_rate}\")"
      ]
    },
    {
      "cell_type": "code",
      "execution_count": 13,
      "metadata": {
        "id": "WfuhZ_ADrlji"
      },
      "outputs": [],
      "source": [
        "# assign model 3\n",
        "model3 = best_model\n",
        "model3_loss = best_model_loss"
      ]
    },
    {
      "cell_type": "markdown",
      "metadata": {
        "id": "G4wfEqN5rlji"
      },
      "source": [
        "## Model Evaluation and Plotting"
      ]
    },
    {
      "cell_type": "code",
      "execution_count": 17,
      "metadata": {
        "colab": {
          "base_uri": "https://localhost:8080/",
          "height": 843
        },
        "id": "4cM2rFt8nTlw",
        "outputId": "bf12f094-7114-44da-b391-26182adae6d5"
      },
      "outputs": [
        {
          "data": {
            "image/png": "[encoded data removed]",
            "text/plain": [
              "<Figure size 640x480 with 1 Axes>"
            ]
          },
          "metadata": {},
          "output_type": "display_data"
        },
        {
          "data": {
            "image/png": "[encoded data removed]",
            "text/plain": [
              "<Figure size 640x480 with 1 Axes>"
            ]
          },
          "metadata": {},
          "output_type": "display_data"
        }
      ],
      "source": [
        "# Evaluate the model\n",
        "x_test = torch.linspace(-2 * torch.pi, 2 * torch.pi, 100).unsqueeze(1)\n",
        "x_test = x_test.to(device)\n",
        "y_test = fn1(x_test)\n",
        "y_pred1 = model1(x_test)\n",
        "y_pred2 = model2(x_test)\n",
        "y_pred3 = model3(x_test)\n",
        "### Visualize plots\n",
        "plt.plot(x_test.cpu().detach(), y_test.cpu().detach(), label=\"True function\", color = 'black')\n",
        "plt.plot(x_test.cpu().detach(), y_pred1.cpu().detach(), label=\"Model 1\", color = 'orange', linestyle = 'dashed')\n",
        "plt.plot(x_test.cpu().detach(), y_pred2.cpu().detach(), label=\"Model 2\", color = 'blue', linestyle = 'dashed')\n",
        "plt.plot(x_test.cpu().detach(), y_pred3.cpu().detach(), label=\"Model 3\", color = 'green', linestyle = 'dashed')\n",
        "plt.legend()\n",
        "plt.show()\n",
        "plt.plot(np.arange(0,len(model1_loss),1),np.array(model1_loss), label=\"Model 1 loss\", color = 'orange')\n",
        "plt.plot(np.arange(0,len(model1_loss),1),np.array(model2_loss), label=\"Model 2 loss\", color = 'blue')\n",
        "plt.plot(np.arange(0,len(model1_loss),1),np.array(model3_loss), label=\"Model 3 loss\", color = 'green')\n",
        "#plt.ylim(0, 10)\n",
        "plt.legend()\n",
        "plt.show()"
      ]
    },
    {
      "cell_type": "code",
      "execution_count": 15,
      "metadata": {
        "colab": {
          "base_uri": "https://localhost:8080/"
        },
        "id": "ENikN3emsC3c",
        "outputId": "83376e9c-bbe7-43ee-9c3a-19148e9a7eae"
      },
      "outputs": [
        {
          "name": "stdout",
          "output_type": "stream",
          "text": [
            "Model 1 MSE: 0.000418019131757319\n",
            "Model 2 MSE: 0.00014254530833568424\n",
            "Model 3 MSE: 0.0006415751995518804\n"
          ]
        }
      ],
      "source": [
        "# print MSE for models on test set\n",
        "print(f\"Model 1 MSE: {nn.functional.mse_loss(y_pred1, y_test)}\")\n",
        "print(f\"Model 2 MSE: {nn.functional.mse_loss(y_pred2, y_test)}\")\n",
        "print(f\"Model 3 MSE: {nn.functional.mse_loss(y_pred3, y_test)}\")"
      ]
    },
    {
      "cell_type": "markdown",
      "metadata": {
        "id": "v4TOb1bPrlji"
      },
      "source": [
        "## Check Parameter Sizes"
      ]
    },
    {
      "cell_type": "code",
      "execution_count": 16,
      "metadata": {
        "colab": {
          "base_uri": "https://localhost:8080/"
        },
        "id": "2wzHww7Gt7VR",
        "outputId": "d6a7afd9-8094-4e81-b190-7449de6238b7"
      },
      "outputs": [
        {
          "name": "stdout",
          "output_type": "stream",
          "text": [
            "Model 1 parameters: 2076\n",
            "Model 1 parameters: 2076\n",
            "Model 3 parameters: 2077\n"
          ]
        }
      ],
      "source": [
        "### Check model parameters\n",
        "model1_parameters = filter(lambda p: p.requires_grad, model1.parameters())\n",
        "params1 = sum([np.prod(p.size()) for p in model1_parameters])\n",
        "print(f'Model 1 parameters: {params1}') #2076\n",
        "\n",
        "model2_parameters = filter(lambda p: p.requires_grad, model2.parameters())\n",
        "params2 = sum([np.prod(p.size()) for p in model2_parameters])\n",
        "print(f'Model 2 parameters: {params2}') #2076\n",
        "\n",
        "model3_parameters = filter(lambda p: p.requires_grad, model3.parameters())\n",
        "params3 = sum([np.prod(p.size()) for p in model3_parameters])\n",
        "print(f'Model 3 parameters: {params3}') #2077"
      ]
    }
  ],
  "metadata": {
    "accelerator": "GPU",
    "colab": {
      "gpuType": "T4",
      "include_colab_link": true,
      "provenance": [],
      "toc_visible": true
    },
    "kernelspec": {
      "display_name": "Python 3",
      "name": "python3"
    },
    "language_info": {
      "codemirror_mode": {
        "name": "ipython",
        "version": 3
      },
      "file_extension": ".py",
      "mimetype": "text/x-python",
      "name": "python",
      "nbconvert_exporter": "python",
      "pygments_lexer": "ipython3",
      "version": "3.11.5"
    }
  },
  "nbformat": 4,
  "nbformat_minor": 0
}
