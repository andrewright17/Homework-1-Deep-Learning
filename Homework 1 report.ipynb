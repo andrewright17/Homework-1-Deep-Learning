{
 "cells": [
  {
   "cell_type": "markdown",
   "metadata": {},
   "source": [
    "# Homework 1 Report"
   ]
  },
  {
   "cell_type": "markdown",
   "metadata": {},
   "source": [
    "## 1-1 Deep vs Shallow"
   ]
  },
  {
   "cell_type": "markdown",
   "metadata": {},
   "source": [
    "### Simulate a Function"
   ]
  },
  {
   "cell_type": "markdown",
   "metadata": {},
   "source": [
    "All models used had an input and output dimension of 1. The models I used are as follows:\n",
    "\n",
    "* Model 1: DNN with 2 hidden layers of sizes 75 and 25. Total of 2076 parameters\n",
    "* Model 2: DNN with 5 hidden layers of sizes 17, 26, 25, 23, and 12. Total of 2076 parameters\n",
    "* Model 3: DNN with 1 hidden layer of size 692. Total of 2077 parameters\n",
    "\n",
    "All models were trained for 100 epochs and I fine tuned for batch size and learning rate on all models. \n",
    "\n",
    "For function 1, we are simulating the function,\n",
    "\n",
    "$$\n",
    "f(x) = 5\\sin^2(\\frac{x}{2})\n",
    "$$\n",
    "\n",
    "The optimal hyperparameters were:\n",
    "\n",
    "* Model 1: batch_size = 8, learning_rate = 0.001\n",
    "* Model 2: batch_size = 16, learning_rate = 0.001\n",
    "* Model 1: batch_size = 8, learning_rate = 0.001"
   ]
  },
  {
   "cell_type": "markdown",
   "metadata": {},
   "source": [
    "The loss for all models are shown in the plot below:\n",
    "\n",
    "![fn1loss](./1.1%20Deep%20vs%20Shallow/1.1%20Simulate%20Function/fn1_loss_output.png)\n",
    "\n",
    "The predicted function curve of all the models is shown in the plot below along with the ground-truth curve:\n",
    "\n",
    "![fn1pred](./1.1%20Deep%20vs%20Shallow/1.1%20Simulate%20Function/fn1_pred_output.png)"
   ]
  },
  {
   "cell_type": "markdown",
   "metadata": {},
   "source": [
    "For function 2, we simulated the function,\n",
    "\n",
    "$$\n",
    "f(x) = \\frac{x^3e^{(x/10)}}{15}\n",
    "$$\n",
    "\n",
    "The optimal hyperparameters were..."
   ]
  },
  {
   "cell_type": "markdown",
   "metadata": {},
   "source": [
    "It appears that all models seemed to approximate the function fairly well. However, Model 3 slightly misses the curve at the endpoints. Model 3 is the shallowest of all the models, so it is intuitive that it could have more error than the other models."
   ]
  },
  {
   "cell_type": "markdown",
   "metadata": {},
   "source": [
    "### Train on Actual Task"
   ]
  },
  {
   "cell_type": "markdown",
   "metadata": {},
   "source": [
    "For traininig on an acutal task, I chose to train on the MNIST dataset. The models I used were:\n",
    "\n",
    "* Model 1:\n",
    "* Model 2:\n",
    "* Model 3:"
   ]
  },
  {
   "cell_type": "markdown",
   "metadata": {},
   "source": []
  }
 ],
 "metadata": {
  "kernelspec": {
   "display_name": "py311env",
   "language": "python",
   "name": "python3"
  },
  "language_info": {
   "name": "python",
   "version": "3.11.5"
  }
 },
 "nbformat": 4,
 "nbformat_minor": 2
}
