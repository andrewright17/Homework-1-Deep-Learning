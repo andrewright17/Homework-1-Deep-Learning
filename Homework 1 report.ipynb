{
 "cells": [
  {
   "cell_type": "markdown",
   "metadata": {},
   "source": [
    "# Homework 1 Report"
   ]
  },
  {
   "cell_type": "markdown",
   "metadata": {},
   "source": [
    "## 1-1 Deep vs Shallow"
   ]
  },
  {
   "cell_type": "markdown",
   "metadata": {},
   "source": [
    "### Simulate a Function"
   ]
  },
  {
   "cell_type": "markdown",
   "metadata": {},
   "source": [
    "All models used had an input and output dimension of 1. The models I used are as follows:\n",
    "\n",
    "* Model 1: DNN with 2 hidden layers of sizes 75 and 25. Total of 2076 parameters\n",
    "* Model 2: DNN with 5 hidden layers of sizes 17, 26, 25, 23, and 12. Total of 2076 parameters\n",
    "* Model 3: DNN with 1 hidden layer of size 692. Total of 2077 parameters\n",
    "\n",
    "All models were trained for 100 epochs and I fine tuned for batch size and learning rate on all models. The optimal hyperparameters were:\n",
    "\n",
    "* Model 1: batch_size = 8, learning_rate = 0.001\n",
    "* Model 2: batch_size = 16, learning_rate = 0.001\n",
    "* Model 1: batch_size = 8, learning_rate = 0.001"
   ]
  },
  {
   "cell_type": "markdown",
   "metadata": {},
   "source": [
    "The loss for all models are shown in the plot below:\n",
    "\n",
    "![fn1loss](./1.1%20Deep%20vs%20Shallow/1.1%20Simulate%20Function/fn1_loss_output.png)"
   ]
  },
  {
   "cell_type": "markdown",
   "metadata": {},
   "source": [
    "### Train on Actual Task"
   ]
  },
  {
   "cell_type": "markdown",
   "metadata": {},
   "source": []
  }
 ],
 "metadata": {
  "kernelspec": {
   "display_name": "py311env",
   "language": "python",
   "name": "python3"
  },
  "language_info": {
   "name": "python",
   "version": "3.11.5"
  }
 },
 "nbformat": 4,
 "nbformat_minor": 2
}
