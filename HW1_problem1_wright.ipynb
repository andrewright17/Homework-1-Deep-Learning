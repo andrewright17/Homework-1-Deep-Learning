{
 "cells": [
  {
   "cell_type": "code",
   "execution_count": 1,
   "metadata": {},
   "outputs": [
    {
     "data": {
      "text/plain": [
       "<torch._C.Generator at 0x108334dd0>"
      ]
     },
     "execution_count": 1,
     "metadata": {},
     "output_type": "execute_result"
    }
   ],
   "source": [
    "### import libraries\n",
    "import torch\n",
    "import torch.nn as nn\n",
    "import torch.optim as optim\n",
    "from torch.utils.data import DataLoader, TensorDataset\n",
    "import numpy as np\n",
    "import pandas as pd\n",
    "import matplotlib.pyplot as plt\n",
    "\n",
    "# set random seed\n",
    "torch.manual_seed(42)"
   ]
  },
  {
   "cell_type": "code",
   "execution_count": 2,
   "metadata": {},
   "outputs": [],
   "source": [
    "### Model Classes\n",
    "\n",
    "# Create the neural network model\n",
    "class model_class_1(nn.Module):\n",
    "    def __init__(self, D_i, D_k1, D_k2, D_k3, D_o):\n",
    "        super(model_class_1, self).__init__()\n",
    "        self.layers = nn.Sequential(\n",
    "            nn.Linear(D_i, D_k1),  \n",
    "            nn.ReLU(),\n",
    "            nn.Linear(D_k1, D_k2), \n",
    "            nn.ReLU(),\n",
    "            nn.Linear(D_k2, D_k3),  \n",
    "            nn.ReLU(),\n",
    "            nn.Linear(D_k3, D_o)     \n",
    "        )\n",
    "\n",
    "    def forward(self, x):\n",
    "        return self.layers(x)\n",
    "\n",
    "# Create test model for parameter size check\n",
    "model1_test = model_class_1(D_i = 1, D_k1 = 16, D_k2 = 8, D_k3 = 2, D_o = 1) #189 params\n",
    "\n",
    "# Create the neural network model\n",
    "class model_class_2(nn.Module):\n",
    "    def __init__(self, D_i, D_k1, D_k2, D_o):\n",
    "        super(model_class_2, self).__init__()\n",
    "        self.layers = nn.Sequential(\n",
    "            nn.Linear(D_i, D_k1),  \n",
    "            nn.ReLU(),\n",
    "            nn.Linear(D_k1, D_k2), \n",
    "            nn.ReLU(),\n",
    "            nn.Linear(D_k2, D_o)     \n",
    "        )\n",
    "\n",
    "    def forward(self, x):\n",
    "        return self.layers(x)\n",
    "\n",
    "# Create test model for parameter size check\n",
    "model2_test = model_class_2(D_i = 1, D_k1 = 30, D_k2 = 4, D_o = 1) #189 params"
   ]
  },
  {
   "cell_type": "code",
   "execution_count": 3,
   "metadata": {},
   "outputs": [
    {
     "name": "stdout",
     "output_type": "stream",
     "text": [
      "189 189\n"
     ]
    }
   ],
   "source": [
    "### Check model sizes are the same\n",
    "model1_parameters = filter(lambda p: p.requires_grad, model1_test.parameters())\n",
    "params1 = sum([np.prod(p.size()) for p in model1_parameters])\n",
    "model2_parameters = filter(lambda p: p.requires_grad, model2_test.parameters())\n",
    "params2 = sum([np.prod(p.size()) for p in model2_parameters])\n",
    "print(params1, params2)"
   ]
  },
  {
   "cell_type": "code",
   "execution_count": 12,
   "metadata": {},
   "outputs": [],
   "source": [
    "### Weight initialization\n",
    "def weights_init(layer_in):\n",
    "    if isinstance(layer_in, nn.Linear):\n",
    "        nn.init.kaiming_normal(layer_in.weight)\n",
    "        layer_in.bias.data.fill_(0.0)"
   ]
  },
  {
   "cell_type": "code",
   "execution_count": 5,
   "metadata": {},
   "outputs": [],
   "source": [
    "### Define first function\n",
    "# Define the function to approximate\n",
    "def fn1(x):\n",
    "    return 5*torch.sin(0.5*x)**2"
   ]
  },
  {
   "cell_type": "code",
   "execution_count": 6,
   "metadata": {},
   "outputs": [],
   "source": [
    "### Generate training data\n",
    "x_train = torch.linspace(-2 * torch.pi, 2 * torch.pi, 2000).unsqueeze(1)\n",
    "y_train = fn1(x_train)"
   ]
  },
  {
   "cell_type": "code",
   "execution_count": 13,
   "metadata": {},
   "outputs": [
    {
     "name": "stderr",
     "output_type": "stream",
     "text": [
      "/var/folders/jh/r6dw_vvs653cb7khs9z0tx1h0000gn/T/ipykernel_74978/102107186.py:4: UserWarning: nn.init.kaiming_normal is now deprecated in favor of nn.init.kaiming_normal_.\n",
      "  nn.init.kaiming_normal(layer_in.weight)\n"
     ]
    },
    {
     "data": {
      "text/plain": [
       "'plt.plot(x_test.detach(), y_test.detach(), label=\"True function\")\\nplt.plot(x_test.detach(), y_pred.detach(), label=\"Approximated function\")\\nplt.legend()\\nplt.show()\\nplt.plot(np.arange(0,len(loss_vec),1),np.array(loss_vec))'"
      ]
     },
     "execution_count": 13,
     "metadata": {},
     "output_type": "execute_result"
    }
   ],
   "source": [
    "### Model 1 training and eval\n",
    "model1 = model_class_1(D_i = 1, D_k1 = 16, D_k2 = 8, D_k3 = 2, D_o = 1) #189 params\n",
    "\n",
    "model1.apply(weights_init)\n",
    "\n",
    "# Create optimizer and loss function\n",
    "optimizer = optim.Adam(model1.parameters(), lr = 0.01)\n",
    "loss_fn = nn.MSELoss()\n",
    "\n",
    "# load training data for model 1\n",
    "data_loader = DataLoader(TensorDataset(x_train,y_train), batch_size=10, shuffle = True)\n",
    "\n",
    "# Training loop for model 1\n",
    "loss_vec1 = []\n",
    "for epoch in range(2000):\n",
    "    epoch_loss = 0.0\n",
    "    for i,data in enumerate(data_loader):\n",
    "        x_batch, y_batch = data\n",
    "        optimizer.zero_grad()\n",
    "    #print(x_train.shape)\n",
    "        y_pred = model1(x_batch)\n",
    "        loss = loss_fn(y_pred, y_batch)\n",
    "        loss.backward()\n",
    "        optimizer.step()\n",
    "        epoch_loss += loss.item()\n",
    "    loss_vec1.append(epoch_loss)\n",
    "# Evaluate the model\n",
    "x_test = torch.linspace(-2 * torch.pi, 2 * torch.pi, 100).unsqueeze(1)\n",
    "y_test = fn1(x_test)\n",
    "y_pred1 = model1(x_test)\n",
    "\n",
    "# Visualize the results (optional)\n",
    "'''plt.plot(x_test.detach(), y_test.detach(), label=\"True function\")\n",
    "plt.plot(x_test.detach(), y_pred.detach(), label=\"Approximated function\")\n",
    "plt.legend()\n",
    "plt.show()\n",
    "plt.plot(np.arange(0,len(loss_vec),1),np.array(loss_vec))'''"
   ]
  },
  {
   "cell_type": "code",
   "execution_count": 8,
   "metadata": {},
   "outputs": [
    {
     "name": "stdout",
     "output_type": "stream",
     "text": [
      "tensor([[2.4978],\n",
      "        [2.4978],\n",
      "        [2.4978],\n",
      "        [2.4978],\n",
      "        [2.4978],\n",
      "        [2.4978],\n",
      "        [2.4978],\n",
      "        [2.4978],\n",
      "        [2.4978],\n",
      "        [2.4978],\n",
      "        [2.4978],\n",
      "        [2.4978],\n",
      "        [2.4978],\n",
      "        [2.4978],\n",
      "        [2.4978],\n",
      "        [2.4978],\n",
      "        [2.4978],\n",
      "        [2.4978],\n",
      "        [2.4978],\n",
      "        [2.4978],\n",
      "        [2.4978],\n",
      "        [2.4978],\n",
      "        [2.4978],\n",
      "        [2.4978],\n",
      "        [2.4978],\n",
      "        [2.4978],\n",
      "        [2.4978],\n",
      "        [2.4978],\n",
      "        [2.4978],\n",
      "        [2.4978],\n",
      "        [2.4978],\n",
      "        [2.4978],\n",
      "        [2.4978],\n",
      "        [2.4978],\n",
      "        [2.4978],\n",
      "        [2.4978],\n",
      "        [2.4978],\n",
      "        [2.4978],\n",
      "        [2.4978],\n",
      "        [2.4978],\n",
      "        [2.4978],\n",
      "        [2.4978],\n",
      "        [2.4978],\n",
      "        [2.4978],\n",
      "        [2.4978],\n",
      "        [2.4978],\n",
      "        [2.4978],\n",
      "        [2.4978],\n",
      "        [2.4978],\n",
      "        [2.4978],\n",
      "        [2.4978],\n",
      "        [2.4978],\n",
      "        [2.4978],\n",
      "        [2.4978],\n",
      "        [2.4978],\n",
      "        [2.4978],\n",
      "        [2.4978],\n",
      "        [2.4978],\n",
      "        [2.4978],\n",
      "        [2.4978],\n",
      "        [2.4978],\n",
      "        [2.4978],\n",
      "        [2.4978],\n",
      "        [2.4978],\n",
      "        [2.4978],\n",
      "        [2.4978],\n",
      "        [2.4978],\n",
      "        [2.4978],\n",
      "        [2.4978],\n",
      "        [2.4978],\n",
      "        [2.4978],\n",
      "        [2.4978],\n",
      "        [2.4978],\n",
      "        [2.4978],\n",
      "        [2.4978],\n",
      "        [2.4978],\n",
      "        [2.4978],\n",
      "        [2.4978],\n",
      "        [2.4978],\n",
      "        [2.4978],\n",
      "        [2.4978],\n",
      "        [2.4978],\n",
      "        [2.4978],\n",
      "        [2.4978],\n",
      "        [2.4978],\n",
      "        [2.4978],\n",
      "        [2.4978],\n",
      "        [2.4978],\n",
      "        [2.4978],\n",
      "        [2.4978],\n",
      "        [2.4978],\n",
      "        [2.4978],\n",
      "        [2.4978],\n",
      "        [2.4978],\n",
      "        [2.4978],\n",
      "        [2.4978],\n",
      "        [2.4978],\n",
      "        [2.4978],\n",
      "        [2.4978],\n",
      "        [2.4978]], grad_fn=<AddmmBackward0>)\n"
     ]
    }
   ],
   "source": [
    "print(y_pred1)"
   ]
  },
  {
   "cell_type": "code",
   "execution_count": 9,
   "metadata": {},
   "outputs": [
    {
     "name": "stderr",
     "output_type": "stream",
     "text": [
      "/var/folders/jh/r6dw_vvs653cb7khs9z0tx1h0000gn/T/ipykernel_74978/1361061646.py:4: UserWarning: nn.init.kaiming_uniform is now deprecated in favor of nn.init.kaiming_uniform_.\n",
      "  nn.init.kaiming_uniform(layer_in.weight)\n"
     ]
    },
    {
     "data": {
      "text/plain": [
       "'plt.plot(x_test.detach(), y_test.detach(), label=\"True function\")\\nplt.plot(x_test.detach(), y_pred.detach(), label=\"Approximated function\")\\nplt.legend()\\nplt.show()\\nplt.plot(np.arange(0,len(loss_vec),1),np.array(loss_vec))'"
      ]
     },
     "execution_count": 9,
     "metadata": {},
     "output_type": "execute_result"
    }
   ],
   "source": [
    "### Model 2 training and eval\n",
    "model2 = model_class_2(D_i = 1, D_k1 = 30, D_k2 = 4, D_o = 1) #189 params\n",
    "\n",
    "model2.apply(weights_init)\n",
    "\n",
    "# Create optimizer and loss function\n",
    "optimizer = optim.Adam(model2.parameters(), lr = 0.01)\n",
    "loss_fn = nn.MSELoss()\n",
    "\n",
    "\n",
    "# load training data for model 2\n",
    "data_loader = DataLoader(TensorDataset(x_train,y_train), batch_size=20, shuffle = True)\n",
    "\n",
    "# Training loop for model 2\n",
    "loss_vec2 = []\n",
    "for epoch in range(2000):\n",
    "    epoch_loss = 0.0\n",
    "    for i,data in enumerate(data_loader):\n",
    "        x_batch, y_batch = data\n",
    "        optimizer.zero_grad()\n",
    "    #print(x_train.shape)\n",
    "        y_pred = model2(x_batch)\n",
    "        loss = loss_fn(y_pred, y_batch)\n",
    "        loss.backward()\n",
    "        optimizer.step()\n",
    "        epoch_loss += loss.item()\n",
    "    loss_vec2.append(epoch_loss)\n",
    "# Evaluate the model\n",
    "y_pred2 = model2(x_test)\n",
    "\n",
    "# Visualize the results (optional)\n",
    "'''plt.plot(x_test.detach(), y_test.detach(), label=\"True function\")\n",
    "plt.plot(x_test.detach(), y_pred.detach(), label=\"Approximated function\")\n",
    "plt.legend()\n",
    "plt.show()\n",
    "plt.plot(np.arange(0,len(loss_vec),1),np.array(loss_vec))'''"
   ]
  },
  {
   "cell_type": "code",
   "execution_count": 18,
   "metadata": {},
   "outputs": [
    {
     "data": {
      "image/png": "[encoded data removed]",
      "text/plain": [
       "<Figure size 640x480 with 1 Axes>"
      ]
     },
     "metadata": {},
     "output_type": "display_data"
    },
    {
     "data": {
      "image/png": "[encoded data removed]",
      "text/plain": [
       "<Figure size 640x480 with 1 Axes>"
      ]
     },
     "metadata": {},
     "output_type": "display_data"
    }
   ],
   "source": [
    "### Visualize plots\n",
    "plt.plot(x_test.detach(), y_test.detach(), label=\"True function\", color = 'black')\n",
    "plt.plot(x_test.detach(), y_pred1.detach(), label=\"Model1\", color = 'orange', linestyle = 'dashed')\n",
    "plt.plot(x_test.detach(), y_pred2.detach(), label=\"Model2\", color = 'blue', linestyle = 'dashed')\n",
    "plt.legend()\n",
    "plt.show()\n",
    "plt.plot(np.arange(0,len(loss_vec1),1),np.array(loss_vec1), label=\"Model 1 loss\", color = 'orange')\n",
    "plt.plot(np.arange(0,len(loss_vec1),1),np.array(loss_vec2), label=\"Model 2 loss\", color = 'blue')\n",
    "#plt.ylim(10**-6, 1)\n",
    "plt.legend()\n",
    "plt.show()"
   ]
  },
  {
   "cell_type": "code",
   "execution_count": 11,
   "metadata": {},
   "outputs": [
    {
     "data": {
      "text/plain": [
       "'### want to write function to train model\\ndef train_model(model, optimizer, data_loader, loss_module, num_epochs=100):\\n    # Set model to train mode\\n    model.train() \\n    \\n    # Training loop\\n    for epoch in tqdm(range(num_epochs)):\\n        for data_inputs, data_labels in data_loader:\\n            \\n            ## Step 1: Move input data to device (only strictly necessary if we use GPU)\\n            data_inputs = data_inputs.to(device)\\n            data_labels = data_labels.to(device)\\n            \\n            ## Step 2: Run the model on the input data\\n            preds = model(data_inputs)\\n            preds = preds.squeeze(dim=1) # Output is [Batch size, 1], but we want [Batch size]\\n            \\n            ## Step 3: Calculate the loss\\n            loss = loss_module(preds, data_labels.float())\\n            \\n            ## Step 4: Perform backpropagation\\n            # Before calculating the gradients, we need to ensure that they are all zero. \\n            # The gradients would not be overwritten, but actually added to the existing ones.\\n            optimizer.zero_grad() \\n            # Perform backpropagation\\n            loss.backward()\\n            \\n            ## Step 5: Update the parameters\\n            optimizer.step()'"
      ]
     },
     "execution_count": 11,
     "metadata": {},
     "output_type": "execute_result"
    }
   ],
   "source": [
    "'''### want to write function to train model\n",
    "def train_model(model, optimizer, data_loader, loss_module, num_epochs=100):\n",
    "    # Set model to train mode\n",
    "    model.train() \n",
    "    \n",
    "    # Training loop\n",
    "    for epoch in tqdm(range(num_epochs)):\n",
    "        for data_inputs, data_labels in data_loader:\n",
    "            \n",
    "            ## Step 1: Move input data to device (only strictly necessary if we use GPU)\n",
    "            data_inputs = data_inputs.to(device)\n",
    "            data_labels = data_labels.to(device)\n",
    "            \n",
    "            ## Step 2: Run the model on the input data\n",
    "            preds = model(data_inputs)\n",
    "            preds = preds.squeeze(dim=1) # Output is [Batch size, 1], but we want [Batch size]\n",
    "            \n",
    "            ## Step 3: Calculate the loss\n",
    "            loss = loss_module(preds, data_labels.float())\n",
    "            \n",
    "            ## Step 4: Perform backpropagation\n",
    "            # Before calculating the gradients, we need to ensure that they are all zero. \n",
    "            # The gradients would not be overwritten, but actually added to the existing ones.\n",
    "            optimizer.zero_grad() \n",
    "            # Perform backpropagation\n",
    "            loss.backward()\n",
    "            \n",
    "            ## Step 5: Update the parameters\n",
    "            optimizer.step()'''"
   ]
  }
 ],
 "metadata": {
  "kernelspec": {
   "display_name": "py311env",
   "language": "python",
   "name": "python3"
  },
  "language_info": {
   "codemirror_mode": {
    "name": "ipython",
    "version": 3
   },
   "file_extension": ".py",
   "mimetype": "text/x-python",
   "name": "python",
   "nbconvert_exporter": "python",
   "pygments_lexer": "ipython3",
   "version": "3.11.5"
  }
 },
 "nbformat": 4,
 "nbformat_minor": 2
}
