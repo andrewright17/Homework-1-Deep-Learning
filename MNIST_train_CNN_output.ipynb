{
  "cells": [
    {
      "cell_type": "markdown",
      "metadata": {
        "colab_type": "text",
        "id": "view-in-github"
      },
      "source": [
        "<a href=\"https://colab.research.google.com/github/andrewright17/Homework-1-Deep-Learning/blob/problem-1.2-actual-task/MNIST_train_CNN.ipynb\" target=\"_parent\"><img src=\"https://colab.research.google.com/assets/colab-badge.svg\" alt=\"Open In Colab\"/></a>"
      ]
    },
    {
      "cell_type": "markdown",
      "metadata": {
        "id": "UJGxUuyzp5Bn"
      },
      "source": [
        "# Homework 1-1 Part 2\n",
        "\n",
        "## Train on Actual Tasks\n",
        "\n",
        "In this notebook we will be training a CNN on the MNIST data set."
      ]
    },
    {
      "cell_type": "markdown",
      "metadata": {
        "id": "wOFgPbtkp5Bq"
      },
      "source": [
        "### Import Libraries"
      ]
    },
    {
      "cell_type": "code",
      "execution_count": 1,
      "metadata": {
        "id": "9owBvBlPp5Bq"
      },
      "outputs": [],
      "source": [
        "### Import libraries\n",
        "import torch\n",
        "import torch.nn as nn\n",
        "import torch.nn.functional as F\n",
        "import torchvision\n",
        "import torchvision.transforms as transforms\n",
        "import matplotlib.pyplot as plt\n",
        "import numpy as np"
      ]
    },
    {
      "cell_type": "markdown",
      "metadata": {
        "id": "KBNpVe7Up5Br"
      },
      "source": [
        "### Specify GPU"
      ]
    },
    {
      "cell_type": "code",
      "execution_count": 2,
      "metadata": {
        "colab": {
          "base_uri": "https://localhost:8080/"
        },
        "id": "H-WNL36Np5Bs",
        "outputId": "ec7c42dd-903a-4545-8480-914f7443f1ec"
      },
      "outputs": [
        {
          "name": "stdout",
          "output_type": "stream",
          "text": [
            "Device cuda\n"
          ]
        }
      ],
      "source": [
        "# Device configuration\n",
        "device = torch.device(\"cuda\" if torch.cuda.is_available() else \"cpu\")\n",
        "print(\"Device\", device)"
      ]
    },
    {
      "cell_type": "markdown",
      "metadata": {
        "id": "15EHoyMBp5Bs"
      },
      "source": [
        "### Model Hyperparameters"
      ]
    },
    {
      "cell_type": "code",
      "execution_count": 3,
      "metadata": {
        "id": "eSrt7z00p5Bs"
      },
      "outputs": [],
      "source": [
        "# Hyperparameters\n",
        "#input_size = 784  # 28x28 flattened images\n",
        "num_classes = 10\n",
        "num_epochs = 30\n",
        "batch_size = 32\n",
        "learning_rate = 0.001"
      ]
    },
    {
      "cell_type": "markdown",
      "metadata": {
        "id": "eC6iMzRjp5Bs"
      },
      "source": [
        "### Load MNIST Dataset"
      ]
    },
    {
      "cell_type": "code",
      "execution_count": 4,
      "metadata": {
        "colab": {
          "base_uri": "https://localhost:8080/"
        },
        "id": "g647Tpl5p5Bt",
        "outputId": "3181049b-68c6-4c86-88e4-e62b16d9d056"
      },
      "outputs": [
        {
          "name": "stdout",
          "output_type": "stream",
          "text": [
            "Downloading http://yann.lecun.com/exdb/mnist/train-images-idx3-ubyte.gz\n",
            "Downloading http://yann.lecun.com/exdb/mnist/train-images-idx3-ubyte.gz to ./data/MNIST/raw/train-images-idx3-ubyte.gz\n"
          ]
        },
        {
          "name": "stderr",
          "output_type": "stream",
          "text": [
            "100%|██████████| 9912422/9912422 [00:00<00:00, 123452853.38it/s]\n"
          ]
        },
        {
          "name": "stdout",
          "output_type": "stream",
          "text": [
            "Extracting ./data/MNIST/raw/train-images-idx3-ubyte.gz to ./data/MNIST/raw\n",
            "\n",
            "Downloading http://yann.lecun.com/exdb/mnist/train-labels-idx1-ubyte.gz\n",
            "Downloading http://yann.lecun.com/exdb/mnist/train-labels-idx1-ubyte.gz to ./data/MNIST/raw/train-labels-idx1-ubyte.gz\n"
          ]
        },
        {
          "name": "stderr",
          "output_type": "stream",
          "text": [
            "100%|██████████| 28881/28881 [00:00<00:00, 104157948.26it/s]\n"
          ]
        },
        {
          "name": "stdout",
          "output_type": "stream",
          "text": [
            "Extracting ./data/MNIST/raw/train-labels-idx1-ubyte.gz to ./data/MNIST/raw\n",
            "\n",
            "Downloading http://yann.lecun.com/exdb/mnist/t10k-images-idx3-ubyte.gz\n",
            "Downloading http://yann.lecun.com/exdb/mnist/t10k-images-idx3-ubyte.gz to ./data/MNIST/raw/t10k-images-idx3-ubyte.gz\n"
          ]
        },
        {
          "name": "stderr",
          "output_type": "stream",
          "text": [
            "100%|██████████| 1648877/1648877 [00:00<00:00, 42431124.40it/s]\n"
          ]
        },
        {
          "name": "stdout",
          "output_type": "stream",
          "text": [
            "Extracting ./data/MNIST/raw/t10k-images-idx3-ubyte.gz to ./data/MNIST/raw\n",
            "\n",
            "Downloading http://yann.lecun.com/exdb/mnist/t10k-labels-idx1-ubyte.gz\n",
            "Downloading http://yann.lecun.com/exdb/mnist/t10k-labels-idx1-ubyte.gz to ./data/MNIST/raw/t10k-labels-idx1-ubyte.gz\n"
          ]
        },
        {
          "name": "stderr",
          "output_type": "stream",
          "text": [
            "100%|██████████| 4542/4542 [00:00<00:00, 5150183.50it/s]"
          ]
        },
        {
          "name": "stdout",
          "output_type": "stream",
          "text": [
            "Extracting ./data/MNIST/raw/t10k-labels-idx1-ubyte.gz to ./data/MNIST/raw\n",
            "\n"
          ]
        },
        {
          "name": "stderr",
          "output_type": "stream",
          "text": [
            "\n"
          ]
        }
      ],
      "source": [
        "# MNIST dataset\n",
        "train_dataset = torchvision.datasets.MNIST(root='./data', train=True, transform=transforms.ToTensor())#, download=True)\n",
        "test_dataset = torchvision.datasets.MNIST(root='./data', train=False, transform=transforms.ToTensor())\n",
        "\n",
        "# Data loaders\n",
        "train_loader = torch.utils.data.DataLoader(dataset=train_dataset, batch_size=batch_size, shuffle=True)\n",
        "test_loader = torch.utils.data.DataLoader(dataset=test_dataset, batch_size=batch_size, shuffle=False)"
      ]
    },
    {
      "cell_type": "markdown",
      "metadata": {
        "id": "y9AL0HQep5Bt"
      },
      "source": [
        "### View Image"
      ]
    },
    {
      "cell_type": "code",
      "execution_count": 5,
      "metadata": {
        "colab": {
          "base_uri": "https://localhost:8080/",
          "height": 452
        },
        "id": "_1tVkJpMp5Bt",
        "outputId": "bdc3eb00-7e50-46b4-98a0-3e8dd5ec1eb9"
      },
      "outputs": [
        {
          "data": {
            "image/png": "[encoded data removed]",
            "text/plain": [
              "<Figure size 640x480 with 1 Axes>"
            ]
          },
          "metadata": {},
          "output_type": "display_data"
        }
      ],
      "source": [
        "# Choose an image index\n",
        "image_index = 5  # You can change this to any valid index\n",
        "\n",
        "# Get the image and label\n",
        "image, label = train_dataset[image_index]\n",
        "\n",
        "# Convert the image tensor to a numpy array\n",
        "image_array = image.numpy()\n",
        "\n",
        "# Reshape the array to 28x28\n",
        "image_array = image_array.reshape(28, 28)\n",
        "\n",
        "# Display the image\n",
        "plt.imshow(image_array, cmap='gray')\n",
        "plt.title(f\"Label: {label}\")\n",
        "plt.show()"
      ]
    },
    {
      "cell_type": "markdown",
      "metadata": {
        "id": "9cJajbBNp5Bu"
      },
      "source": [
        "### Define CNN Classes"
      ]
    },
    {
      "cell_type": "code",
      "execution_count": 6,
      "metadata": {
        "id": "xPD1zKTPp5Bu"
      },
      "outputs": [],
      "source": [
        "# CNN model\n",
        "class CNN(nn.Module):\n",
        "    def __init__(self, num_classes, out_channels_1, out_channels_2):\n",
        "        super(CNN, self).__init__()\n",
        "        self.conv1 = nn.Sequential(nn.Conv2d(in_channels=1, out_channels=out_channels_1, kernel_size=3, padding=1),\n",
        "                                   nn.MaxPool2d(kernel_size=2),\n",
        "                                   nn.ReLU())\n",
        "        self.conv2 = nn.Sequential(nn.Conv2d(in_channels=out_channels_1, out_channels=out_channels_2,\n",
        "                                             kernel_size=3, padding=1),\n",
        "                                   nn.MaxPool2d(kernel_size=2),\n",
        "                                   nn.ReLU())\n",
        "        self.fc = nn.Linear(out_channels_2 * 7 * 7, num_classes)  # Assuming input images are 28x28\n",
        "\n",
        "\n",
        "    def forward(self, x):\n",
        "       x = self.conv1(x)\n",
        "       x = self.conv2(x)\n",
        "       x = x.view(x.size(0), -1)\n",
        "       x = self.fc(x)\n",
        "       return x"
      ]
    },
    {
      "cell_type": "markdown",
      "metadata": {
        "id": "J0W16y0vp5Bu"
      },
      "source": [
        "### Assign Model, Loss, and Optimizer"
      ]
    },
    {
      "cell_type": "code",
      "execution_count": 7,
      "metadata": {
        "id": "Sk8K-x8Vp5Bv"
      },
      "outputs": [],
      "source": [
        "CNN_1 = CNN(num_classes=num_classes, out_channels_1=16, out_channels_2=32).to(device)\n",
        "CNN_2 = CNN(num_classes=num_classes, out_channels_1=8, out_channels_2=16).to(device)"
      ]
    },
    {
      "cell_type": "markdown",
      "metadata": {
        "id": "8f0nr-3ip5Bv"
      },
      "source": [
        "### Train Model and Evaluate Accuracy"
      ]
    },
    {
      "cell_type": "code",
      "execution_count": 8,
      "metadata": {
        "id": "DtpaPyKap5Bv"
      },
      "outputs": [],
      "source": [
        "### training function\n",
        "def train_eval(model, num_epochs, learning_rate, train_loader, test_loader):\n",
        "    # Loss and optimizer\n",
        "    criterion = nn.CrossEntropyLoss()\n",
        "    optimizer = torch.optim.Adam(model.parameters(), lr=learning_rate)\n",
        "    # Training loop\n",
        "    total_loss = []\n",
        "    total_accuracy = []\n",
        "    for epoch in range(num_epochs):\n",
        "        train_loss = 0.0\n",
        "\n",
        "        #Training\n",
        "        model.train()\n",
        "        for images, labels in train_loader:\n",
        "            images = images.to(device)\n",
        "            labels = labels.to(device)\n",
        "\n",
        "            # Zero out Gradient\n",
        "            optimizer.zero_grad()\n",
        "\n",
        "            # Forward pass\n",
        "            outputs = model(images)\n",
        "            loss = criterion(outputs, labels)\n",
        "\n",
        "            # Backward pass and optimization\n",
        "            loss.backward()\n",
        "            optimizer.step()\n",
        "            train_loss += loss * images.size(0)\n",
        "\n",
        "        train_loss = train_loss/len(train_loader.sampler)\n",
        "        total_loss.append(train_loss)\n",
        "        print(f\"train loss: {train_loss}\")\n",
        "\n",
        "        #Validation\n",
        "        model.eval()\n",
        "        correct = 0\n",
        "        total = 0\n",
        "        with torch.no_grad():\n",
        "            for images, labels in test_loader:\n",
        "                images = images.to(device)\n",
        "                labels = labels.to(device)\n",
        "                outputs = model(images)\n",
        "                _, predicted = torch.max(outputs.data, 1)\n",
        "                total += labels.size(0)\n",
        "                correct += (predicted == labels).sum().item()\n",
        "        accuracy = 100 * correct / total\n",
        "        total_accuracy.append(accuracy)\n",
        "        print('Accuracy of the network on the 10000 test images: {} %'.format(100 * correct / total))\n",
        "    return total_loss, total_accuracy\n",
        "\n"
      ]
    },
    {
      "cell_type": "code",
      "execution_count": 9,
      "metadata": {
        "colab": {
          "base_uri": "https://localhost:8080/"
        },
        "id": "cBAOe-NGLWr1",
        "outputId": "671e4468-340f-4f9d-942c-4860b1d85022"
      },
      "outputs": [
        {
          "name": "stdout",
          "output_type": "stream",
          "text": [
            "train loss: 0.19708827137947083\n",
            "Accuracy of the network on the 10000 test images: 97.9 %\n",
            "train loss: 0.06767352670431137\n",
            "Accuracy of the network on the 10000 test images: 98.51 %\n",
            "train loss: 0.049879204481840134\n",
            "Accuracy of the network on the 10000 test images: 98.39 %\n",
            "train loss: 0.03987080231308937\n",
            "Accuracy of the network on the 10000 test images: 98.69 %\n",
            "train loss: 0.03323156014084816\n",
            "Accuracy of the network on the 10000 test images: 98.44 %\n",
            "train loss: 0.028137052431702614\n",
            "Accuracy of the network on the 10000 test images: 98.9 %\n",
            "train loss: 0.023854924365878105\n",
            "Accuracy of the network on the 10000 test images: 98.73 %\n",
            "train loss: 0.02061280980706215\n",
            "Accuracy of the network on the 10000 test images: 98.81 %\n",
            "train loss: 0.01819160021841526\n",
            "Accuracy of the network on the 10000 test images: 98.82 %\n",
            "train loss: 0.015635492280125618\n",
            "Accuracy of the network on the 10000 test images: 98.96 %\n",
            "train loss: 0.013599722646176815\n",
            "Accuracy of the network on the 10000 test images: 98.95 %\n",
            "train loss: 0.012200522236526012\n",
            "Accuracy of the network on the 10000 test images: 98.94 %\n",
            "train loss: 0.00996811781078577\n",
            "Accuracy of the network on the 10000 test images: 98.86 %\n",
            "train loss: 0.010063891299068928\n",
            "Accuracy of the network on the 10000 test images: 98.9 %\n",
            "train loss: 0.008153660222887993\n",
            "Accuracy of the network on the 10000 test images: 98.65 %\n",
            "train loss: 0.007821309380233288\n",
            "Accuracy of the network on the 10000 test images: 98.84 %\n",
            "train loss: 0.005635040812194347\n",
            "Accuracy of the network on the 10000 test images: 98.74 %\n",
            "train loss: 0.007171836216002703\n",
            "Accuracy of the network on the 10000 test images: 98.81 %\n",
            "train loss: 0.005434210877865553\n",
            "Accuracy of the network on the 10000 test images: 98.83 %\n",
            "train loss: 0.004913826938718557\n",
            "Accuracy of the network on the 10000 test images: 98.81 %\n",
            "train loss: 0.004524018615484238\n",
            "Accuracy of the network on the 10000 test images: 98.99 %\n",
            "train loss: 0.004671430215239525\n",
            "Accuracy of the network on the 10000 test images: 98.81 %\n",
            "train loss: 0.003538641147315502\n",
            "Accuracy of the network on the 10000 test images: 98.79 %\n",
            "train loss: 0.004105849657207727\n",
            "Accuracy of the network on the 10000 test images: 98.75 %\n",
            "train loss: 0.00328649440780282\n",
            "Accuracy of the network on the 10000 test images: 98.97 %\n",
            "train loss: 0.0033228551037609577\n",
            "Accuracy of the network on the 10000 test images: 98.92 %\n",
            "train loss: 0.003230958478525281\n",
            "Accuracy of the network on the 10000 test images: 98.94 %\n",
            "train loss: 0.003568209707736969\n",
            "Accuracy of the network on the 10000 test images: 98.86 %\n",
            "train loss: 0.003218084806576371\n",
            "Accuracy of the network on the 10000 test images: 98.89 %\n",
            "train loss: 0.0023006212431937456\n",
            "Accuracy of the network on the 10000 test images: 98.91 %\n"
          ]
        }
      ],
      "source": [
        "### Train models\n",
        "CNN_1_loss, CNN_1_accuracy = train_eval(model = CNN_1, num_epochs=num_epochs, learning_rate=learning_rate,\n",
        "                                        train_loader=train_loader, test_loader=test_loader)"
      ]
    },
    {
      "cell_type": "code",
      "execution_count": 10,
      "metadata": {
        "colab": {
          "base_uri": "https://localhost:8080/"
        },
        "id": "OLnzdmMHYwmG",
        "outputId": "826b1067-3b6e-4ba1-fe2a-c7b4ecd82871"
      },
      "outputs": [
        {
          "name": "stdout",
          "output_type": "stream",
          "text": [
            "train loss: 0.2442914992570877\n",
            "Accuracy of the network on the 10000 test images: 97.58 %\n",
            "train loss: 0.07588481158018112\n",
            "Accuracy of the network on the 10000 test images: 98.26 %\n",
            "train loss: 0.05821925401687622\n",
            "Accuracy of the network on the 10000 test images: 98.45 %\n",
            "train loss: 0.047527801245450974\n",
            "Accuracy of the network on the 10000 test images: 98.54 %\n",
            "train loss: 0.04155751317739487\n",
            "Accuracy of the network on the 10000 test images: 98.7 %\n",
            "train loss: 0.035111408680677414\n",
            "Accuracy of the network on the 10000 test images: 98.48 %\n",
            "train loss: 0.03125070407986641\n",
            "Accuracy of the network on the 10000 test images: 98.55 %\n",
            "train loss: 0.028347378596663475\n",
            "Accuracy of the network on the 10000 test images: 98.67 %\n",
            "train loss: 0.02545192465186119\n",
            "Accuracy of the network on the 10000 test images: 98.7 %\n",
            "train loss: 0.023229558020830154\n",
            "Accuracy of the network on the 10000 test images: 98.67 %\n",
            "train loss: 0.02173040248453617\n",
            "Accuracy of the network on the 10000 test images: 98.72 %\n",
            "train loss: 0.01972326822578907\n",
            "Accuracy of the network on the 10000 test images: 98.69 %\n",
            "train loss: 0.018175357952713966\n",
            "Accuracy of the network on the 10000 test images: 98.7 %\n",
            "train loss: 0.0171107929199934\n",
            "Accuracy of the network on the 10000 test images: 98.69 %\n",
            "train loss: 0.01575944945216179\n",
            "Accuracy of the network on the 10000 test images: 98.58 %\n",
            "train loss: 0.014525284990668297\n",
            "Accuracy of the network on the 10000 test images: 98.75 %\n",
            "train loss: 0.01364941243082285\n",
            "Accuracy of the network on the 10000 test images: 98.63 %\n",
            "train loss: 0.012401379644870758\n",
            "Accuracy of the network on the 10000 test images: 98.7 %\n",
            "train loss: 0.01159666944295168\n",
            "Accuracy of the network on the 10000 test images: 98.8 %\n",
            "train loss: 0.010449888184666634\n",
            "Accuracy of the network on the 10000 test images: 98.78 %\n",
            "train loss: 0.011244846507906914\n",
            "Accuracy of the network on the 10000 test images: 98.76 %\n",
            "train loss: 0.009448331780731678\n",
            "Accuracy of the network on the 10000 test images: 98.64 %\n",
            "train loss: 0.009870890527963638\n",
            "Accuracy of the network on the 10000 test images: 98.68 %\n",
            "train loss: 0.008580171503126621\n",
            "Accuracy of the network on the 10000 test images: 98.73 %\n",
            "train loss: 0.009039727970957756\n",
            "Accuracy of the network on the 10000 test images: 98.74 %\n",
            "train loss: 0.007479682564735413\n",
            "Accuracy of the network on the 10000 test images: 98.84 %\n",
            "train loss: 0.007023162208497524\n",
            "Accuracy of the network on the 10000 test images: 98.51 %\n",
            "train loss: 0.007722177542746067\n",
            "Accuracy of the network on the 10000 test images: 98.75 %\n",
            "train loss: 0.00706075644120574\n",
            "Accuracy of the network on the 10000 test images: 98.77 %\n",
            "train loss: 0.006614006590098143\n",
            "Accuracy of the network on the 10000 test images: 98.76 %\n"
          ]
        }
      ],
      "source": [
        "CNN_2_loss, CNN_2_accuracy = train_eval(model = CNN_2, num_epochs=num_epochs, learning_rate=learning_rate,\n",
        "                                        train_loader=train_loader, test_loader=test_loader)"
      ]
    },
    {
      "cell_type": "markdown",
      "metadata": {
        "id": "Gdtwq-c7p5Bv"
      },
      "source": [
        "### Plot Results"
      ]
    },
    {
      "cell_type": "code",
      "execution_count": 11,
      "metadata": {
        "colab": {
          "base_uri": "https://localhost:8080/",
          "height": 843
        },
        "id": "-rTmOjRqp5Bw",
        "outputId": "19e5c030-3267-493a-89e3-f5f8fbd52f9a"
      },
      "outputs": [
        {
          "data": {
            "image/png": "[encoded data removed]",
            "text/plain": [
              "<Figure size 640x480 with 1 Axes>"
            ]
          },
          "metadata": {},
          "output_type": "display_data"
        },
        {
          "data": {
            "image/png": "[encoded data removed]",
            "text/plain": [
              "<Figure size 640x480 with 1 Axes>"
            ]
          },
          "metadata": {},
          "output_type": "display_data"
        }
      ],
      "source": [
        "# Loss Plot\n",
        "CNN_1_loss = torch.tensor(CNN_1_loss).cpu().data.numpy()\n",
        "CNN_2_loss = torch.tensor(CNN_2_loss).cpu().data.numpy()\n",
        "plt.plot(np.arange(0, len(CNN_1_loss), 1), CNN_1_loss, label = \"CNN_1 Loss\", color = \"blue\")\n",
        "plt.plot(np.arange(0, len(CNN_1_loss), 1), CNN_2_loss, label = \"CNN_2 Loss\", color = \"orange\")\n",
        "plt.legend()\n",
        "plt.show()\n",
        "\n",
        "# Accuracy Plot\n",
        "plt.plot(np.arange(0, len(CNN_1_accuracy), 1), np.array(CNN_1_accuracy), label = \"CNN_1 Accuracy\", color = \"blue\")\n",
        "plt.plot(np.arange(0, len(CNN_1_accuracy), 1), np.array(CNN_2_accuracy), label = \"CNN_2 Accuracy\", color = \"orange\")\n",
        "plt.legend()\n",
        "plt.show()"
      ]
    }
  ],
  "metadata": {
    "accelerator": "GPU",
    "colab": {
      "gpuType": "T4",
      "include_colab_link": true,
      "provenance": []
    },
    "kernelspec": {
      "display_name": "Python 3",
      "name": "python3"
    },
    "language_info": {
      "codemirror_mode": {
        "name": "ipython",
        "version": 3
      },
      "file_extension": ".py",
      "mimetype": "text/x-python",
      "name": "python",
      "nbconvert_exporter": "python",
      "pygments_lexer": "ipython3",
      "version": "3.11.5"
    }
  },
  "nbformat": 4,
  "nbformat_minor": 0
}
