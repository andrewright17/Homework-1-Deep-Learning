{
 "cells": [
  {
   "cell_type": "markdown",
   "metadata": {},
   "source": [
    "# Number of Parameters vs Generalization"
   ]
  },
  {
   "cell_type": "code",
   "execution_count": 1,
   "metadata": {},
   "outputs": [],
   "source": [
    "### Import libraries\n",
    "import torch\n",
    "import torch.nn as nn\n",
    "import torch.nn.functional as F\n",
    "import torchvision\n",
    "import torchvision.transforms as transforms\n",
    "from torch.utils.data import DataLoader, TensorDataset\n",
    "import matplotlib.pyplot as plt\n",
    "import numpy as np"
   ]
  },
  {
   "cell_type": "code",
   "execution_count": 2,
   "metadata": {},
   "outputs": [
    {
     "name": "stdout",
     "output_type": "stream",
     "text": [
      "Device cuda\n"
     ]
    }
   ],
   "source": [
    "# Device configuration\n",
    "device = torch.device(\"cuda\" if torch.cuda.is_available() else \"cpu\")\n",
    "print(\"Device\", device)"
   ]
  },
  {
   "cell_type": "code",
   "execution_count": 3,
   "metadata": {},
   "outputs": [],
   "source": [
    "class model_class(nn.Module):\n",
    "    def __init__(self, input_size, output_size, hidden_sizes=None):\n",
    "        super(model_class, self).__init__()\n",
    "\n",
    "        # Store model architecture parameters\n",
    "        self.input_size = input_size\n",
    "        self.output_size = output_size\n",
    "        self.hidden_sizes = hidden_sizes or []\n",
    "\n",
    "        # Create layers\n",
    "        layers = []\n",
    "        in_features = input_size\n",
    "        for h_size in hidden_sizes:\n",
    "            layers.append(nn.Linear(in_features, h_size))\n",
    "            layers.append(nn.ReLU())  # Add activation after each hidden layer\n",
    "            in_features = h_size\n",
    "        layers.append(nn.Linear(in_features, output_size))\n",
    "        self.layers = nn.ModuleList(layers)\n",
    "\n",
    "    def forward(self, x):\n",
    "        # Forward pass through the layers\n",
    "        x = x.view(-1, 784)\n",
    "        for layer in self.layers:\n",
    "            x = layer(x)\n",
    "        return x"
   ]
  },
  {
   "cell_type": "code",
   "execution_count": 4,
   "metadata": {},
   "outputs": [],
   "source": [
    "### training function for MNIST data set\n",
    "def train_eval(model, num_epochs, learning_rate, train_loader, test_loader):\n",
    "    # model to device\n",
    "    model = model.to(device)\n",
    "    # Loss and optimizer\n",
    "    criterion = nn.CrossEntropyLoss()\n",
    "    optimizer = torch.optim.Adam(model.parameters(), lr=learning_rate)\n",
    "    # Training loop\n",
    "    total_loss = []\n",
    "    total_accuracy = []\n",
    "    for epoch in range(num_epochs):\n",
    "        train_loss = 0.0\n",
    "\n",
    "        #Training\n",
    "        model.train()\n",
    "        for images, labels in train_loader:\n",
    "            images = images.to(device)\n",
    "            labels = labels.to(device)\n",
    "            #print(images.shape, labels.shape)\n",
    "\n",
    "            # Zero out Gradient\n",
    "            optimizer.zero_grad()\n",
    "\n",
    "            # Forward pass\n",
    "            outputs = model(images)\n",
    "            loss = criterion(outputs, labels)\n",
    "\n",
    "            # Backward pass and optimization\n",
    "            loss.backward()\n",
    "            optimizer.step()\n",
    "            train_loss += loss * images.size(0)\n",
    "\n",
    "        train_loss = train_loss/len(train_loader.sampler)\n",
    "        total_loss.append(train_loss)\n",
    "\n",
    "        #Validation\n",
    "        model.eval()\n",
    "        correct = 0\n",
    "        total = 0\n",
    "        with torch.no_grad():\n",
    "            for images, labels in test_loader:\n",
    "                images = images.to(device)\n",
    "                labels = labels.to(device)\n",
    "                outputs = model(images)\n",
    "                _, predicted = torch.max(outputs.data, 1)\n",
    "                total += labels.size(0)\n",
    "                correct += (predicted == labels).sum().item()\n",
    "        accuracy = 100 * correct / total\n",
    "        total_accuracy.append(accuracy)\n",
    "        \n",
    "        print(f\"Epoch {epoch}; loss: {total_loss[-1]}\")\n",
    "    return total_loss[-1], total_accuracy[-1]"
   ]
  },
  {
   "cell_type": "code",
   "execution_count": 5,
   "metadata": {},
   "outputs": [],
   "source": [
    "# MNIST dataset\n",
    "train_dataset = torchvision.datasets.MNIST(root='../data', train=True, transform=transforms.ToTensor(), download=True)\n",
    "test_dataset = torchvision.datasets.MNIST(root='../data', train=False, transform=transforms.ToTensor())\n",
    "\n",
    "# Data loaders\n",
    "train_loader = torch.utils.data.DataLoader(dataset=train_dataset, batch_size=32, shuffle=True)\n",
    "test_loader = torch.utils.data.DataLoader(dataset=test_dataset, batch_size=32, shuffle=False)"
   ]
  },
  {
   "cell_type": "code",
   "execution_count": 6,
   "metadata": {},
   "outputs": [],
   "source": [
    "model1 = model_class(input_size = 784, output_size = 10, hidden_sizes = [8,16])\n",
    "model2 = model_class(input_size = 784, output_size = 10, hidden_sizes = [16,32])\n",
    "model3 = model_class(input_size = 784, output_size = 10, hidden_sizes = [32,32])\n",
    "model4 = model_class(input_size = 784, output_size = 10, hidden_sizes = [32,64])\n",
    "model5 = model_class(input_size = 784, output_size = 10, hidden_sizes = [64,64])\n",
    "model6 = model_class(input_size = 784, output_size = 10, hidden_sizes = [64,128])\n",
    "model7 = model_class(input_size = 784, output_size = 10, hidden_sizes = [128,128])\n",
    "model8 = model_class(input_size = 784, output_size = 10, hidden_sizes = [128,256])\n",
    "model9 = model_class(input_size = 784, output_size = 10, hidden_sizes = [256,256])\n",
    "model10 = model_class(input_size = 784, output_size = 10, hidden_sizes = [32,128])\n",
    "model11 = model_class(input_size = 784, output_size = 10, hidden_sizes = [8,256])"
   ]
  },
  {
   "cell_type": "code",
   "execution_count": 7,
   "metadata": {},
   "outputs": [
    {
     "name": "stdout",
     "output_type": "stream",
     "text": [
      "Epoch 0; loss: 0.5425700545310974\n",
      "Epoch 1; loss: 0.31043797731399536\n",
      "Epoch 2; loss: 0.28325098752975464\n",
      "Epoch 3; loss: 0.2673490047454834\n",
      "Epoch 4; loss: 0.2545187771320343\n",
      "Epoch 5; loss: 0.2451334297657013\n",
      "Epoch 6; loss: 0.23561310768127441\n",
      "Epoch 7; loss: 0.2290806621313095\n",
      "Epoch 8; loss: 0.22219085693359375\n",
      "Epoch 9; loss: 0.2163500189781189\n",
      "Epoch 0; loss: 0.455471396446228\n",
      "Epoch 1; loss: 0.240642249584198\n",
      "Epoch 2; loss: 0.19513176381587982\n",
      "Epoch 3; loss: 0.16734640300273895\n",
      "Epoch 4; loss: 0.15077650547027588\n",
      "Epoch 5; loss: 0.13901448249816895\n",
      "Epoch 6; loss: 0.12807880342006683\n",
      "Epoch 7; loss: 0.12229415029287338\n",
      "Epoch 8; loss: 0.11538770794868469\n",
      "Epoch 9; loss: 0.10917337238788605\n",
      "Epoch 0; loss: 0.41517260670661926\n",
      "Epoch 1; loss: 0.2046314924955368\n",
      "Epoch 2; loss: 0.15645718574523926\n",
      "Epoch 3; loss: 0.13294094800949097\n",
      "Epoch 4; loss: 0.11476583033800125\n",
      "Epoch 5; loss: 0.10128820687532425\n",
      "Epoch 6; loss: 0.09110693633556366\n",
      "Epoch 7; loss: 0.08325100690126419\n",
      "Epoch 8; loss: 0.0747346580028534\n",
      "Epoch 9; loss: 0.06889715045690536\n",
      "Epoch 0; loss: 0.36350739002227783\n",
      "Epoch 1; loss: 0.17112985253334045\n",
      "Epoch 2; loss: 0.13118688762187958\n",
      "Epoch 3; loss: 0.10885921120643616\n",
      "Epoch 4; loss: 0.09339390695095062\n",
      "Epoch 5; loss: 0.08161246031522751\n",
      "Epoch 6; loss: 0.07322733849287033\n",
      "Epoch 7; loss: 0.06412394344806671\n",
      "Epoch 8; loss: 0.058562539517879486\n",
      "Epoch 9; loss: 0.05344695597887039\n",
      "Epoch 0; loss: 0.3146319091320038\n",
      "Epoch 1; loss: 0.13735727965831757\n",
      "Epoch 2; loss: 0.09770681709051132\n",
      "Epoch 3; loss: 0.07572690397500992\n",
      "Epoch 4; loss: 0.06357695907354355\n",
      "Epoch 5; loss: 0.05311683937907219\n",
      "Epoch 6; loss: 0.04482319951057434\n",
      "Epoch 7; loss: 0.03918589651584625\n",
      "Epoch 8; loss: 0.033846043050289154\n",
      "Epoch 9; loss: 0.02942841500043869\n",
      "Epoch 0; loss: 0.297926127910614\n",
      "Epoch 1; loss: 0.13151349127292633\n",
      "Epoch 2; loss: 0.09354580193758011\n",
      "Epoch 3; loss: 0.07442258298397064\n",
      "Epoch 4; loss: 0.057973477989435196\n",
      "Epoch 5; loss: 0.050637342035770416\n",
      "Epoch 6; loss: 0.040407102555036545\n",
      "Epoch 7; loss: 0.035236358642578125\n",
      "Epoch 8; loss: 0.031022286042571068\n",
      "Epoch 9; loss: 0.027820901945233345\n",
      "Epoch 0; loss: 0.2675836682319641\n",
      "Epoch 1; loss: 0.10646437108516693\n",
      "Epoch 2; loss: 0.07360175251960754\n",
      "Epoch 3; loss: 0.05763974413275719\n",
      "Epoch 4; loss: 0.04552524909377098\n",
      "Epoch 5; loss: 0.036598436534404755\n",
      "Epoch 6; loss: 0.030326446518301964\n",
      "Epoch 7; loss: 0.025864193215966225\n",
      "Epoch 8; loss: 0.022913893684744835\n",
      "Epoch 9; loss: 0.019978182390332222\n",
      "Epoch 0; loss: 0.2500826120376587\n",
      "Epoch 1; loss: 0.10343404859304428\n",
      "Epoch 2; loss: 0.07291730493307114\n",
      "Epoch 3; loss: 0.05739371478557587\n",
      "Epoch 4; loss: 0.04304588586091995\n",
      "Epoch 5; loss: 0.03471164032816887\n",
      "Epoch 6; loss: 0.028359755873680115\n",
      "Epoch 7; loss: 0.025962993502616882\n",
      "Epoch 8; loss: 0.022387156262993813\n",
      "Epoch 9; loss: 0.020566727966070175\n",
      "Epoch 0; loss: 0.22846588492393494\n",
      "Epoch 1; loss: 0.09145675599575043\n",
      "Epoch 2; loss: 0.06128079444169998\n",
      "Epoch 3; loss: 0.046267226338386536\n",
      "Epoch 4; loss: 0.036695800721645355\n",
      "Epoch 5; loss: 0.029430704191327095\n",
      "Epoch 6; loss: 0.024797555059194565\n",
      "Epoch 7; loss: 0.022970905527472496\n",
      "Epoch 8; loss: 0.019437342882156372\n",
      "Epoch 9; loss: 0.01706557162106037\n",
      "Epoch 0; loss: 0.3246327042579651\n",
      "Epoch 1; loss: 0.1496434062719345\n",
      "Epoch 2; loss: 0.11262235045433044\n",
      "Epoch 3; loss: 0.09331279247999191\n",
      "Epoch 4; loss: 0.07876315712928772\n",
      "Epoch 5; loss: 0.06799261271953583\n",
      "Epoch 6; loss: 0.06201780587434769\n",
      "Epoch 7; loss: 0.054000530391931534\n",
      "Epoch 8; loss: 0.05010248348116875\n",
      "Epoch 9; loss: 0.043577633798122406\n",
      "Epoch 0; loss: 0.3902159631252289\n",
      "Epoch 1; loss: 0.23267480731010437\n",
      "Epoch 2; loss: 0.2027686983346939\n",
      "Epoch 3; loss: 0.1854657530784607\n",
      "Epoch 4; loss: 0.17361372709274292\n",
      "Epoch 5; loss: 0.16450905799865723\n",
      "Epoch 6; loss: 0.15647177398204803\n",
      "Epoch 7; loss: 0.15205180644989014\n",
      "Epoch 8; loss: 0.1456657499074936\n",
      "Epoch 9; loss: 0.14242702722549438\n"
     ]
    }
   ],
   "source": [
    "m1_loss, m1_acc = train_eval(model1, num_epochs=10, learning_rate=0.001, train_loader=train_loader\n",
    "                             , test_loader=test_loader)\n",
    "m2_loss, m2_acc = train_eval(model2, num_epochs=10, learning_rate=0.001, train_loader=train_loader\n",
    "                             , test_loader=test_loader)\n",
    "m3_loss, m3_acc = train_eval(model3, num_epochs=10, learning_rate=0.001, train_loader=train_loader\n",
    "                             , test_loader=test_loader)\n",
    "m4_loss, m4_acc = train_eval(model4, num_epochs=10, learning_rate=0.001, train_loader=train_loader\n",
    "                             , test_loader=test_loader)\n",
    "m5_loss, m5_acc = train_eval(model5, num_epochs=10, learning_rate=0.001, train_loader=train_loader\n",
    "                             , test_loader=test_loader)\n",
    "m6_loss, m6_acc = train_eval(model6, num_epochs=10, learning_rate=0.001, train_loader=train_loader\n",
    "                             , test_loader=test_loader)\n",
    "m7_loss, m7_acc = train_eval(model7, num_epochs=10, learning_rate=0.001, train_loader=train_loader\n",
    "                             , test_loader=test_loader)\n",
    "m8_loss, m8_acc = train_eval(model8, num_epochs=10, learning_rate=0.001, train_loader=train_loader\n",
    "                             , test_loader=test_loader)\n",
    "m9_loss, m9_acc = train_eval(model9, num_epochs=10, learning_rate=0.001, train_loader=train_loader\n",
    "                             , test_loader=test_loader)\n",
    "m10_loss, m10_acc = train_eval(model10, num_epochs=10, learning_rate=0.001, train_loader=train_loader\n",
    "                             , test_loader=test_loader)\n",
    "m11_loss, m11_acc = train_eval(model11, num_epochs=10, learning_rate=0.001, train_loader=train_loader\n",
    "                             , test_loader=test_loader)"
   ]
  },
  {
   "cell_type": "code",
   "execution_count": 8,
   "metadata": {},
   "outputs": [
    {
     "name": "stdout",
     "output_type": "stream",
     "text": [
      "loss: 0.2163500189781189; accuracy: 93.28\n"
     ]
    }
   ],
   "source": [
    "print(f\"loss: {m1_loss}; accuracy: {m1_acc}\")"
   ]
  },
  {
   "cell_type": "code",
   "execution_count": 9,
   "metadata": {},
   "outputs": [],
   "source": [
    "loss_vec = [m1_loss,m2_loss,m3_loss,m4_loss,m5_loss,m6_loss,m7_loss,m8_loss,m9_loss,m10_loss,m11_loss]\n",
    "loss_vec = np.array([x.detach().cpu().numpy() for x in loss_vec])\n",
    "acc_vec = np.array([m1_acc,m2_acc,m3_acc,m4_acc,m5_acc,m6_acc,m7_acc,m8_acc,m9_acc,m10_acc,m11_acc])"
   ]
  },
  {
   "cell_type": "code",
   "execution_count": 10,
   "metadata": {},
   "outputs": [
    {
     "data": {
      "text/plain": [
       "array([  6594,  13434,  26506,  27882,  55050,  59850, 118282, 136074,\n",
       "       269322,  30634,  11154])"
      ]
     },
     "execution_count": 10,
     "metadata": {},
     "output_type": "execute_result"
    }
   ],
   "source": [
    "models = [model1,model2,model3,model4,model5,model6,model7,model8,model9,model10,model11]\n",
    "parameters = []\n",
    "for model in models:\n",
    "    parameters.append(np.array(sum(p.numel() for p in model.parameters())))\n",
    "parameters = np.array(parameters)\n",
    "parameters"
   ]
  },
  {
   "cell_type": "code",
   "execution_count": 11,
   "metadata": {},
   "outputs": [
    {
     "data": {
      "text/plain": [
       "array([0.21635002, 0.10917337, 0.06889715, 0.05344696, 0.02942842,\n",
       "       0.0278209 , 0.01997818, 0.02056673, 0.01706557, 0.04357763,\n",
       "       0.14242703], dtype=float32)"
      ]
     },
     "execution_count": 11,
     "metadata": {},
     "output_type": "execute_result"
    }
   ],
   "source": [
    "loss_vec"
   ]
  },
  {
   "cell_type": "code",
   "execution_count": 12,
   "metadata": {},
   "outputs": [
    {
     "data": {
      "image/png": "[encoded data removed]",
      "text/plain": [
       "<Figure size 640x480 with 1 Axes>"
      ]
     },
     "metadata": {},
     "output_type": "display_data"
    },
    {
     "data": {
      "image/png": "[encoded data removed]",
      "text/plain": [
       "<Figure size 640x480 with 1 Axes>"
      ]
     },
     "metadata": {},
     "output_type": "display_data"
    }
   ],
   "source": [
    "plt.scatter(parameters, loss_vec)\n",
    "plt.show()\n",
    "plt.scatter(parameters, acc_vec)\n",
    "plt.show()"
   ]
  },
  {
   "cell_type": "code",
   "execution_count": 13,
   "metadata": {},
   "outputs": [],
   "source": [
    "#Validation\n",
    "test_acc_vec = []\n",
    "for model in models:\n",
    "    model.eval()\n",
    "    correct = 0\n",
    "    total = 0\n",
    "    with torch.no_grad():\n",
    "        for images, labels in test_loader:\n",
    "            images = images.to(device)\n",
    "            labels = labels.to(device)\n",
    "            outputs = model(images)\n",
    "            _, predicted = torch.max(outputs.data, 1)\n",
    "            total += labels.size(0)\n",
    "            correct += (predicted == labels).sum().item()\n",
    "    accuracy = 100 * correct / total\n",
    "    test_acc_vec.append(accuracy)"
   ]
  },
  {
   "cell_type": "code",
   "execution_count": 14,
   "metadata": {},
   "outputs": [],
   "source": [
    "#Validation\n",
    "train_acc_vec = []\n",
    "for model in models:\n",
    "    model.eval()\n",
    "    correct = 0\n",
    "    total = 0\n",
    "    with torch.no_grad():\n",
    "        for images, labels in train_loader:\n",
    "            images = images.to(device)\n",
    "            labels = labels.to(device)\n",
    "            outputs = model(images)\n",
    "            _, predicted = torch.max(outputs.data, 1)\n",
    "            total += labels.size(0)\n",
    "            correct += (predicted == labels).sum().item()\n",
    "    accuracy = 100 * correct / total\n",
    "    train_acc_vec.append(accuracy)"
   ]
  },
  {
   "cell_type": "code",
   "execution_count": 15,
   "metadata": {},
   "outputs": [
    {
     "data": {
      "image/png": "[encoded data removed]",
      "text/plain": [
       "<Figure size 640x480 with 1 Axes>"
      ]
     },
     "metadata": {},
     "output_type": "display_data"
    }
   ],
   "source": [
    "plt.scatter(parameters, train_acc_vec,  c = \"blue\", label = \"train accuracy\")\n",
    "plt.scatter(parameters, test_acc_vec, c = \"orange\", label = \"test accuracy\")\n",
    "plt.legend()\n",
    "plt.savefig(\"param_acc.png\")\n",
    "plt.show()"
   ]
  },
  {
   "cell_type": "code",
   "execution_count": 16,
   "metadata": {},
   "outputs": [],
   "source": [
    "criterion = nn.CrossEntropyLoss()\n",
    "train_loss_vec = []\n",
    "for model in models:\n",
    "    train_loss = 0.0\n",
    "\n",
    "    #Training\n",
    "    model.eval()\n",
    "    with torch.no_grad():\n",
    "        for images, labels in train_loader:\n",
    "            images = images.to(device)\n",
    "            labels = labels.to(device)\n",
    "            #print(images.shape, labels.shape)\n",
    "\n",
    "            # Forward pass\n",
    "            outputs = model(images)\n",
    "            loss = criterion(outputs, labels)\n",
    "\n",
    "            train_loss += loss * images.size(0)\n",
    "\n",
    "    train_loss = train_loss/len(train_loader.sampler)\n",
    "    train_loss_vec.append(train_loss)"
   ]
  },
  {
   "cell_type": "code",
   "execution_count": 17,
   "metadata": {},
   "outputs": [],
   "source": [
    "criterion = nn.CrossEntropyLoss()\n",
    "test_loss_vec = []\n",
    "for model in models:\n",
    "    test_loss = 0.0\n",
    "\n",
    "    #Training\n",
    "    model.eval()\n",
    "    with torch.no_grad():\n",
    "        for images, labels in test_loader:\n",
    "            images = images.to(device)\n",
    "            labels = labels.to(device)\n",
    "            #print(images.shape, labels.shape)\n",
    "\n",
    "            # Forward pass\n",
    "            outputs = model(images)\n",
    "            loss = criterion(outputs, labels)\n",
    "\n",
    "            test_loss += loss * images.size(0)\n",
    "\n",
    "    test_loss = test_loss/len(test_loader.sampler)\n",
    "    test_loss_vec.append(test_loss)"
   ]
  },
  {
   "cell_type": "code",
   "execution_count": 18,
   "metadata": {},
   "outputs": [],
   "source": [
    "train_loss_vec = np.array([x.detach().cpu().numpy() for x in train_loss_vec])\n",
    "test_loss_vec = np.array([x.detach().cpu().numpy() for x in test_loss_vec])"
   ]
  },
  {
   "cell_type": "code",
   "execution_count": 19,
   "metadata": {},
   "outputs": [
    {
     "data": {
      "image/png": "[encoded data removed]",
      "text/plain": [
       "<Figure size 640x480 with 1 Axes>"
      ]
     },
     "metadata": {},
     "output_type": "display_data"
    }
   ],
   "source": [
    "plt.scatter(parameters, train_loss_vec,  c = \"blue\", label = \"train loss\")\n",
    "plt.scatter(parameters, test_loss_vec, c = \"orange\", label = \"test loss\")\n",
    "plt.legend()\n",
    "plt.savefig(\"param_loss.png\")\n",
    "plt.show()"
   ]
  }
 ],
 "metadata": {
  "kernelspec": {
   "display_name": "py311env",
   "language": "python",
   "name": "python3"
  },
  "language_info": {
   "codemirror_mode": {
    "name": "ipython",
    "version": 3
   },
   "file_extension": ".py",
   "mimetype": "text/x-python",
   "name": "python",
   "nbconvert_exporter": "python",
   "pygments_lexer": "ipython3",
   "version": "3.11.6"
  }
 },
 "nbformat": 4,
 "nbformat_minor": 2
}
