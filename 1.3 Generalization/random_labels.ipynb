{
 "cells": [
  {
   "cell_type": "markdown",
   "metadata": {},
   "source": [
    "# Random Label Code"
   ]
  },
  {
   "cell_type": "markdown",
   "metadata": {},
   "source": [
    "## Import Libraries and Set Device"
   ]
  },
  {
   "cell_type": "code",
   "execution_count": 1,
   "metadata": {},
   "outputs": [],
   "source": [
    "### Import libraries\n",
    "import torch\n",
    "import torch.nn as nn\n",
    "import torch.nn.functional as F\n",
    "import torchvision\n",
    "import torchvision.transforms as transforms\n",
    "from torch.utils.data import DataLoader, TensorDataset\n",
    "import matplotlib.pyplot as plt\n",
    "import numpy as np\n",
    "import random"
   ]
  },
  {
   "cell_type": "code",
   "execution_count": 2,
   "metadata": {},
   "outputs": [
    {
     "name": "stdout",
     "output_type": "stream",
     "text": [
      "Device cuda\n"
     ]
    }
   ],
   "source": [
    "# Device configuration\n",
    "device = torch.device(\"cuda\" if torch.cuda.is_available() else \"cpu\")\n",
    "print(\"Device\", device)"
   ]
  },
  {
   "cell_type": "markdown",
   "metadata": {},
   "source": [
    "## Hyperparameters and Load Data"
   ]
  },
  {
   "cell_type": "code",
   "execution_count": 3,
   "metadata": {},
   "outputs": [],
   "source": [
    "# Hyperparameters\n",
    "#input_size = 784  # 28x28 flattened images\n",
    "num_classes = 10\n",
    "num_epochs = 150\n",
    "batch_size = 64\n",
    "learning_rate = 0.001"
   ]
  },
  {
   "cell_type": "code",
   "execution_count": 4,
   "metadata": {},
   "outputs": [],
   "source": [
    "# MNIST dataset\n",
    "train_dataset = torchvision.datasets.MNIST(root='../data', train=True, transform=transforms.ToTensor(), download=True)\n",
    "test_dataset = torchvision.datasets.MNIST(root='../data', train=False, transform=transforms.ToTensor())"
   ]
  },
  {
   "cell_type": "code",
   "execution_count": 5,
   "metadata": {},
   "outputs": [
    {
     "name": "stdout",
     "output_type": "stream",
     "text": [
      "torch.Size([60000, 28, 28])\n",
      "torch.Size([10000, 28, 28])\n",
      "torch.Size([60000])\n",
      "torch.Size([10000])\n"
     ]
    }
   ],
   "source": [
    "### shuffle labels\n",
    "train_images = torch.tensor(()).to(device)\n",
    "train_labels = []\n",
    "for image, label in train_dataset:\n",
    "    train_images = torch.cat((train_images,image.to(device)),0)\n",
    "    train_labels.append(label)\n",
    "test_images = torch.tensor(()).to(device)\n",
    "test_labels = []\n",
    "for image, lable in test_dataset:\n",
    "    test_images = torch.cat((test_images,image.to(device)),0)\n",
    "    test_labels.append(label)\n",
    "\n",
    "train_labels = torch.tensor(train_labels).to(device)\n",
    "test_labels = torch.tensor(test_labels).to(device)\n",
    "random.shuffle(train_labels)\n",
    "random.shuffle(test_labels)\n",
    "print(train_images.shape)\n",
    "print(test_images.shape)\n",
    "print(train_labels.shape)\n",
    "print(test_labels.shape)"
   ]
  },
  {
   "cell_type": "code",
   "execution_count": 6,
   "metadata": {},
   "outputs": [],
   "source": [
    "# Data loaders\n",
    "train_loader = torch.utils.data.DataLoader(dataset=TensorDataset(train_images,train_labels), batch_size=batch_size, shuffle=True)\n",
    "test_loader = torch.utils.data.DataLoader(dataset=TensorDataset(test_images,test_labels), batch_size=batch_size, shuffle=False)"
   ]
  },
  {
   "cell_type": "markdown",
   "metadata": {},
   "source": [
    "## View Image"
   ]
  },
  {
   "cell_type": "code",
   "execution_count": 7,
   "metadata": {},
   "outputs": [
    {
     "data": {
      "image/png": "[encoded data removed]",
      "text/plain": [
       "<Figure size 640x480 with 1 Axes>"
      ]
     },
     "metadata": {},
     "output_type": "display_data"
    }
   ],
   "source": [
    "# Choose an image index\n",
    "image_index = 5  # You can change this to any valid index\n",
    "\n",
    "# Get the image and label\n",
    "image, label = train_dataset[image_index]\n",
    "\n",
    "# Convert the image tensor to a numpy array\n",
    "image_array = image.numpy()\n",
    "\n",
    "# Reshape the array to 28x28\n",
    "image_array = image_array.reshape(28, 28)\n",
    "\n",
    "# Display the image\n",
    "plt.imshow(image_array, cmap='gray')\n",
    "plt.title(f\"Label: {label}\")\n",
    "plt.show()"
   ]
  },
  {
   "cell_type": "markdown",
   "metadata": {},
   "source": [
    "## Model Class"
   ]
  },
  {
   "cell_type": "code",
   "execution_count": 8,
   "metadata": {},
   "outputs": [],
   "source": [
    "# CNN model\n",
    "class CNN(nn.Module):\n",
    "    def __init__(self, num_classes, out_channels_1, out_channels_2):\n",
    "        super(CNN, self).__init__()\n",
    "        self.conv1 = nn.Sequential(nn.Conv2d(in_channels=1, out_channels=out_channels_1, kernel_size=3, padding=1),\n",
    "                                   nn.MaxPool2d(kernel_size=2),\n",
    "                                   nn.ReLU())\n",
    "        self.conv2 = nn.Sequential(nn.Conv2d(in_channels=out_channels_1, out_channels=out_channels_2,\n",
    "                                             kernel_size=3, padding=1),\n",
    "                                   nn.MaxPool2d(kernel_size=2),\n",
    "                                   nn.ReLU())\n",
    "        self.fc = nn.Linear(out_channels_2 * 7 * 7, num_classes)  # Assuming input images are 28x28\n",
    "\n",
    "\n",
    "    def forward(self, x):\n",
    "       x = x.unsqueeze(1)\n",
    "       x = self.conv1(x)\n",
    "       x = self.conv2(x)\n",
    "       x = x.view(x.size(0), -1)\n",
    "       x = self.fc(x)\n",
    "       return x"
   ]
  },
  {
   "cell_type": "markdown",
   "metadata": {},
   "source": [
    "## Train and Evaluation"
   ]
  },
  {
   "cell_type": "code",
   "execution_count": 9,
   "metadata": {},
   "outputs": [],
   "source": [
    "### training function\n",
    "def train_eval(model, num_epochs, learning_rate, train_loader, test_loader):\n",
    "    # model to device\n",
    "    model = model.to(device)\n",
    "    # Loss and optimizer\n",
    "    criterion = nn.CrossEntropyLoss()\n",
    "    optimizer = torch.optim.Adam(model.parameters(), lr=learning_rate)\n",
    "    # Training loop\n",
    "    total_loss_train = []\n",
    "    total_loss_test = []\n",
    "    for epoch in range(num_epochs):\n",
    "        train_loss = 0.0\n",
    "\n",
    "        #Training\n",
    "        model.train()\n",
    "        for images, labels in train_loader:\n",
    "            images = images.to(device)\n",
    "            labels = labels.to(device)\n",
    "\n",
    "            # Zero out Gradient\n",
    "            optimizer.zero_grad()\n",
    "\n",
    "            # Forward pass\n",
    "            outputs = model(images)\n",
    "            loss = criterion(outputs, labels)\n",
    "\n",
    "            # Backward pass and optimization\n",
    "            loss.backward()\n",
    "            optimizer.step()\n",
    "            train_loss += loss * images.size(0)\n",
    "\n",
    "        train_loss = train_loss/len(train_loader.sampler)\n",
    "        total_loss_train.append(train_loss)\n",
    "        if epoch % 10 == 0:\n",
    "            print(f\"Epoch: {epoch}; train loss: {train_loss}\")\n",
    "\n",
    "        #Validation\n",
    "        model.eval()\n",
    "        with torch.no_grad():\n",
    "            test_loss = 0.0\n",
    "            for images, labels in test_loader:\n",
    "                images = images.to(device)\n",
    "                labels = labels.to(device)\n",
    "                outputs = model(images)\n",
    "                loss = criterion(outputs, labels)\n",
    "                test_loss += loss * images.size(0)\n",
    "        test_loss = test_loss/len(test_loader.sampler)\n",
    "        total_loss_test.append(test_loss)\n",
    "        \n",
    "    return total_loss_train, total_loss_test\n"
   ]
  },
  {
   "cell_type": "code",
   "execution_count": 10,
   "metadata": {},
   "outputs": [],
   "source": [
    "CNN_1 = CNN(num_classes=num_classes, out_channels_1=16, out_channels_2=32).to(device)"
   ]
  },
  {
   "cell_type": "code",
   "execution_count": 11,
   "metadata": {},
   "outputs": [
    {
     "name": "stdout",
     "output_type": "stream",
     "text": [
      "Epoch: 0; train loss: 2.3010268211364746\n",
      "Epoch: 10; train loss: 2.2986338138580322\n",
      "Epoch: 20; train loss: 2.2844133377075195\n",
      "Epoch: 30; train loss: 2.2730448246002197\n",
      "Epoch: 40; train loss: 2.2650887966156006\n",
      "Epoch: 50; train loss: 2.2598509788513184\n",
      "Epoch: 60; train loss: 2.2559361457824707\n",
      "Epoch: 70; train loss: 2.252382278442383\n",
      "Epoch: 80; train loss: 2.2494003772735596\n",
      "Epoch: 90; train loss: 2.2468771934509277\n",
      "Epoch: 100; train loss: 2.245013475418091\n",
      "Epoch: 110; train loss: 2.241468667984009\n",
      "Epoch: 120; train loss: 2.239147663116455\n",
      "Epoch: 130; train loss: 2.2369813919067383\n",
      "Epoch: 140; train loss: 2.2354886531829834\n"
     ]
    }
   ],
   "source": [
    "### Train models\n",
    "CNN_1_loss_train, CNN_1_loss_test = train_eval(model = CNN_1, num_epochs=num_epochs, learning_rate=learning_rate,\n",
    "                                        train_loader=train_loader, test_loader=test_loader)"
   ]
  },
  {
   "cell_type": "markdown",
   "metadata": {},
   "source": [
    "## Plot"
   ]
  },
  {
   "cell_type": "code",
   "execution_count": 13,
   "metadata": {},
   "outputs": [
    {
     "data": {
      "image/png": "[encoded data removed]",
      "text/plain": [
       "<Figure size 640x480 with 1 Axes>"
      ]
     },
     "metadata": {},
     "output_type": "display_data"
    }
   ],
   "source": [
    "# Loss Plot\n",
    "CNN_1_loss_train = torch.tensor(CNN_1_loss_train).cpu().data.numpy()\n",
    "CNN_1_loss_test = torch.tensor(CNN_1_loss_test).cpu().data.numpy()\n",
    "plt.plot(np.arange(0, len(CNN_1_loss_train), 1), CNN_1_loss_train, label = \"Train Loss\", color = \"blue\")\n",
    "plt.plot(np.arange(0, len(CNN_1_loss_test), 1), np.array(CNN_1_loss_test), label = \"Test Loss\", color = \"orange\")\n",
    "plt.legend()\n",
    "plt.show()"
   ]
  }
 ],
 "metadata": {
  "kernelspec": {
   "display_name": "py311env",
   "language": "python",
   "name": "python3"
  },
  "language_info": {
   "codemirror_mode": {
    "name": "ipython",
    "version": 3
   },
   "file_extension": ".py",
   "mimetype": "text/x-python",
   "name": "python",
   "nbconvert_exporter": "python",
   "pygments_lexer": "ipython3",
   "version": "3.11.7"
  }
 },
 "nbformat": 4,
 "nbformat_minor": 2
}
