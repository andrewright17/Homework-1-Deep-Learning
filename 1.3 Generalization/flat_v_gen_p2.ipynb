{
 "cells": [
  {
   "cell_type": "markdown",
   "metadata": {},
   "source": [
    "# Flatness vs. Generalization pt 1"
   ]
  },
  {
   "cell_type": "code",
   "execution_count": 1,
   "metadata": {},
   "outputs": [],
   "source": [
    "### Import libraries\n",
    "import torch\n",
    "import torch.nn as nn\n",
    "import torch.nn.functional as F\n",
    "import torchvision\n",
    "import torchvision.transforms as transforms\n",
    "from torch.utils.data import DataLoader, TensorDataset\n",
    "import matplotlib.pyplot as plt\n",
    "import numpy as np"
   ]
  },
  {
   "cell_type": "code",
   "execution_count": 2,
   "metadata": {},
   "outputs": [
    {
     "name": "stdout",
     "output_type": "stream",
     "text": [
      "Device cuda\n"
     ]
    }
   ],
   "source": [
    "# Device configuration\n",
    "device = torch.device(\"cuda\" if torch.cuda.is_available() else \"cpu\")\n",
    "print(\"Device\", device)"
   ]
  },
  {
   "cell_type": "code",
   "execution_count": 3,
   "metadata": {},
   "outputs": [],
   "source": [
    "class model_class(nn.Module):\n",
    "    def __init__(self, input_size, output_size, hidden_sizes=None):\n",
    "        super(model_class, self).__init__()\n",
    "\n",
    "        # Store model architecture parameters\n",
    "        self.input_size = input_size\n",
    "        self.output_size = output_size\n",
    "        self.hidden_sizes = hidden_sizes or []\n",
    "\n",
    "        # Create layers\n",
    "        layers = []\n",
    "        in_features = input_size\n",
    "        for h_size in hidden_sizes:\n",
    "            layers.append(nn.Linear(in_features, h_size))\n",
    "            layers.append(nn.ReLU())  # Add activation after each hidden layer\n",
    "            in_features = h_size\n",
    "        layers.append(nn.Linear(in_features, output_size))\n",
    "        self.layers = nn.ModuleList(layers)\n",
    "\n",
    "    def forward(self, x):\n",
    "        # Forward pass through the layers\n",
    "        x = x.view(-1, 784)\n",
    "        for layer in self.layers:\n",
    "            x = layer(x)\n",
    "        return x"
   ]
  },
  {
   "cell_type": "code",
   "execution_count": 4,
   "metadata": {},
   "outputs": [],
   "source": [
    "### training function for MNIST data set\n",
    "def train_eval(model, num_epochs, learning_rate, train_loader, test_loader):\n",
    "    # model to device\n",
    "    model = model.to(device)\n",
    "    # Loss and optimizer\n",
    "    criterion = nn.CrossEntropyLoss()\n",
    "    optimizer = torch.optim.Adam(model.parameters(), lr=learning_rate)\n",
    "    # Training loop\n",
    "    total_loss = []\n",
    "    total_accuracy = []\n",
    "    for epoch in range(num_epochs):\n",
    "        train_loss = 0.0\n",
    "\n",
    "        #Training\n",
    "        model.train()\n",
    "        for images, labels in train_loader:\n",
    "            images = images.to(device)\n",
    "            labels = labels.to(device)\n",
    "            #print(images.shape, labels.shape)\n",
    "\n",
    "            # Zero out Gradient\n",
    "            optimizer.zero_grad()\n",
    "\n",
    "            # Forward pass\n",
    "            outputs = model(images)\n",
    "            loss = criterion(outputs, labels)\n",
    "\n",
    "            # Backward pass and optimization\n",
    "            loss.backward()\n",
    "            optimizer.step()\n",
    "            train_loss += loss * images.size(0)\n",
    "\n",
    "        train_loss = train_loss/len(train_loader.sampler)\n",
    "        total_loss.append(train_loss)\n",
    "\n",
    "        #Validation\n",
    "        model.eval()\n",
    "        correct = 0\n",
    "        total = 0\n",
    "        with torch.no_grad():\n",
    "            for images, labels in test_loader:\n",
    "                images = images.to(device)\n",
    "                labels = labels.to(device)\n",
    "                outputs = model(images)\n",
    "                _, predicted = torch.max(outputs.data, 1)\n",
    "                total += labels.size(0)\n",
    "                correct += (predicted == labels).sum().item()\n",
    "        accuracy = 100 * correct / total\n",
    "        total_accuracy.append(accuracy)\n",
    "        \n",
    "        print(f\"Epoch {epoch}; loss: {total_loss[-1]}\")\n",
    "    return total_loss[-1], total_accuracy[-1]"
   ]
  },
  {
   "cell_type": "code",
   "execution_count": 5,
   "metadata": {},
   "outputs": [],
   "source": [
    "# MNIST dataset\n",
    "train_dataset = torchvision.datasets.MNIST(root='../data', train=True, transform=transforms.ToTensor(), download=True)\n",
    "test_dataset = torchvision.datasets.MNIST(root='../data', train=False, transform=transforms.ToTensor())\n",
    "\n",
    "# Data loaders\n",
    "train_loader1 = torch.utils.data.DataLoader(dataset=train_dataset, batch_size=64, shuffle=True)\n",
    "test_loader1 = torch.utils.data.DataLoader(dataset=test_dataset, batch_size=64, shuffle=False)\n",
    "\n",
    "# Data loaders\n",
    "train_loader2 = torch.utils.data.DataLoader(dataset=train_dataset, batch_size=1024, shuffle=True)\n",
    "test_loader2 = torch.utils.data.DataLoader(dataset=test_dataset, batch_size=1024, shuffle=False)"
   ]
  },
  {
   "cell_type": "code",
   "execution_count": 6,
   "metadata": {},
   "outputs": [],
   "source": [
    "model1 = model_class(input_size = 784, output_size = 10, hidden_sizes = [32,64])\n",
    "model2 = model_class(input_size = 784, output_size = 10, hidden_sizes = [32,64])"
   ]
  },
  {
   "cell_type": "code",
   "execution_count": 7,
   "metadata": {},
   "outputs": [
    {
     "name": "stdout",
     "output_type": "stream",
     "text": [
      "Epoch 0; loss: 0.4325923025608063\n",
      "Epoch 1; loss: 0.20571397244930267\n",
      "Epoch 2; loss: 0.16381466388702393\n",
      "Epoch 3; loss: 0.13864389061927795\n",
      "Epoch 4; loss: 0.12031422555446625\n",
      "Epoch 5; loss: 0.10614029318094254\n",
      "Epoch 6; loss: 0.09246528893709183\n",
      "Epoch 7; loss: 0.0844348892569542\n",
      "Epoch 8; loss: 0.07538438588380814\n",
      "Epoch 9; loss: 0.06882952898740768\n",
      "Epoch 0; loss: 1.4862478971481323\n",
      "Epoch 1; loss: 0.45789846777915955\n",
      "Epoch 2; loss: 0.31804969906806946\n",
      "Epoch 3; loss: 0.27036258578300476\n",
      "Epoch 4; loss: 0.24045896530151367\n",
      "Epoch 5; loss: 0.21818982064723969\n",
      "Epoch 6; loss: 0.20039759576320648\n",
      "Epoch 7; loss: 0.1865936815738678\n",
      "Epoch 8; loss: 0.17542670667171478\n",
      "Epoch 9; loss: 0.16414862871170044\n"
     ]
    }
   ],
   "source": [
    "m1_loss, m1_acc = train_eval(model1, num_epochs=10, learning_rate=0.001, train_loader=train_loader1\n",
    "                             , test_loader=test_loader1)\n",
    "m2_loss, m2_acc = train_eval(model2, num_epochs=10, learning_rate=0.001, train_loader=train_loader2\n",
    "                             , test_loader=test_loader2)"
   ]
  },
  {
   "cell_type": "code",
   "execution_count": 8,
   "metadata": {},
   "outputs": [],
   "source": [
    "alpha = torch.linspace(-1,2,50)\n",
    "m1_params = torch.nn.utils.parameters_to_vector(model1.parameters())\n",
    "m2_params = torch.nn.utils.parameters_to_vector(model2.parameters())\n",
    "theta = []"
   ]
  },
  {
   "cell_type": "code",
   "execution_count": 9,
   "metadata": {},
   "outputs": [
    {
     "name": "stdout",
     "output_type": "stream",
     "text": [
      "50\n"
     ]
    }
   ],
   "source": [
    "for i in range(len(alpha)):\n",
    "    theta.append((1-alpha[i])*m1_params + alpha[i]*m2_params)\n",
    "print(len(theta))"
   ]
  },
  {
   "cell_type": "code",
   "execution_count": 10,
   "metadata": {},
   "outputs": [],
   "source": [
    "def get_loss(model, data_loader):\n",
    "    criterion = nn.CrossEntropyLoss()\n",
    "    total_loss = 0.0\n",
    "\n",
    "    with torch.no_grad():\n",
    "        for images, labels in data_loader:\n",
    "            images = images.to(device)\n",
    "            labels = labels.to(device)\n",
    "            #print(images.shape, labels.shape)\n",
    "\n",
    "            # Forward pass\n",
    "            outputs = model(images)\n",
    "            loss = criterion(outputs, labels)\n",
    "\n",
    "            total_loss += loss * images.size(0)\n",
    "\n",
    "        total_loss = total_loss/len(data_loader.sampler)\n",
    "    return total_loss"
   ]
  },
  {
   "cell_type": "code",
   "execution_count": 11,
   "metadata": {},
   "outputs": [],
   "source": [
    "def get_accuracy(model, data_loader):\n",
    "    correct = 0\n",
    "    total = 0\n",
    "    with torch.no_grad():\n",
    "        for images, labels in data_loader:\n",
    "            images = images.to(device)\n",
    "            labels = labels.to(device)\n",
    "            outputs = model(images)\n",
    "            _, predicted = torch.max(outputs.data, 1)\n",
    "            total += labels.size(0)\n",
    "            correct += (predicted == labels).sum().item()\n",
    "        accuracy = 100 * correct / total\n",
    "    return accuracy"
   ]
  },
  {
   "cell_type": "code",
   "execution_count": 12,
   "metadata": {},
   "outputs": [],
   "source": [
    "train_loss_vec = []\n",
    "train_acc_vec = []\n",
    "test_loss_vec = []\n",
    "test_acc_vec = []\n",
    "for i in range(len(theta)):\n",
    "    model = model_class(input_size = 784, output_size = 10, hidden_sizes = [32,64])\n",
    "    torch.nn.utils.vector_to_parameters(theta[i], model.parameters())\n",
    "    train_loss = get_loss(model, train_loader1)\n",
    "    train_acc = get_accuracy(model, train_loader1)\n",
    "    test_loss = get_loss(model, test_loader1)\n",
    "    test_acc = get_accuracy(model, test_loader1)\n",
    "    train_loss_vec.append(train_loss)\n",
    "    train_acc_vec.append(train_acc)\n",
    "    test_loss_vec.append(test_loss)\n",
    "    test_acc_vec.append(test_acc)"
   ]
  },
  {
   "cell_type": "code",
   "execution_count": 16,
   "metadata": {},
   "outputs": [],
   "source": [
    "train_loss_vec1 = np.array([x.detach().cpu().numpy() for x in train_loss_vec])\n",
    "test_loss_vec1 = np.array([x.detach().cpu().numpy() for x in test_loss_vec])"
   ]
  },
  {
   "cell_type": "code",
   "execution_count": 19,
   "metadata": {},
   "outputs": [
    {
     "data": {
      "image/png": "[encoded data removed]",
      "text/plain": [
       "<Figure size 640x480 with 2 Axes>"
      ]
     },
     "metadata": {},
     "output_type": "display_data"
    }
   ],
   "source": [
    "plt.plot(alpha.detach().numpy(), np.log(train_loss_vec1), label = \"train loss (log)\", color = \"blue\")\n",
    "plt.plot(alpha.detach().numpy(), np.log(test_loss_vec1), label = \"test loss (log)\", color = \"blue\", linestyle = \"dashed\")\n",
    "plt.legend()\n",
    "plt.twinx()\n",
    "plt.plot(alpha.detach().numpy(), train_acc_vec, label = \"train accuracy\", color = \"orange\")\n",
    "plt.plot(alpha.detach().numpy(), test_acc_vec, label = \"test accuracy\", color = \"orange\", linestyle = \"dashed\")\n",
    "plt.legend()\n",
    "plt.show()"
   ]
  },
  {
   "cell_type": "code",
   "execution_count": null,
   "metadata": {},
   "outputs": [],
   "source": []
  }
 ],
 "metadata": {
  "kernelspec": {
   "display_name": "py311env",
   "language": "python",
   "name": "python3"
  },
  "language_info": {
   "codemirror_mode": {
    "name": "ipython",
    "version": 3
   },
   "file_extension": ".py",
   "mimetype": "text/x-python",
   "name": "python",
   "nbconvert_exporter": "python",
   "pygments_lexer": "ipython3",
   "version": "3.11.7"
  }
 },
 "nbformat": 4,
 "nbformat_minor": 2
}
