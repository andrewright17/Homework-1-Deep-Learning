{
 "cells": [
  {
   "cell_type": "markdown",
   "metadata": {},
   "source": [
    "# Number of Parameters vs Generalization"
   ]
  },
  {
   "cell_type": "code",
   "execution_count": 1,
   "metadata": {},
   "outputs": [],
   "source": [
    "### Import libraries\n",
    "import torch\n",
    "import torch.nn as nn\n",
    "import torch.nn.functional as F\n",
    "import torchvision\n",
    "import torchvision.transforms as transforms\n",
    "from torch.utils.data import DataLoader, TensorDataset\n",
    "import matplotlib.pyplot as plt\n",
    "import numpy as np"
   ]
  },
  {
   "cell_type": "code",
   "execution_count": 2,
   "metadata": {},
   "outputs": [
    {
     "name": "stdout",
     "output_type": "stream",
     "text": [
      "Device cuda\n"
     ]
    }
   ],
   "source": [
    "# Device configuration\n",
    "device = torch.device(\"cuda\" if torch.cuda.is_available() else \"cpu\")\n",
    "print(\"Device\", device)"
   ]
  },
  {
   "cell_type": "code",
   "execution_count": 3,
   "metadata": {},
   "outputs": [],
   "source": [
    "class model_class(nn.Module):\n",
    "    def __init__(self, input_size, output_size, hidden_sizes=None):\n",
    "        super(model_class, self).__init__()\n",
    "\n",
    "        # Store model architecture parameters\n",
    "        self.input_size = input_size\n",
    "        self.output_size = output_size\n",
    "        self.hidden_sizes = hidden_sizes or []\n",
    "\n",
    "        # Create layers\n",
    "        layers = []\n",
    "        in_features = input_size\n",
    "        for h_size in hidden_sizes:\n",
    "            layers.append(nn.Linear(in_features, h_size))\n",
    "            layers.append(nn.ReLU())  # Add activation after each hidden layer\n",
    "            in_features = h_size\n",
    "        layers.append(nn.Linear(in_features, output_size))\n",
    "        self.layers = nn.ModuleList(layers)\n",
    "\n",
    "    def forward(self, x):\n",
    "        # Forward pass through the layers\n",
    "        x = x.view(-1, 784)\n",
    "        for layer in self.layers:\n",
    "            x = layer(x)\n",
    "        return x"
   ]
  },
  {
   "cell_type": "code",
   "execution_count": 9,
   "metadata": {},
   "outputs": [],
   "source": [
    "### training function for MNIST data set\n",
    "def train_eval(model, num_epochs, learning_rate, train_loader, test_loader):\n",
    "    # model to device\n",
    "    model = model.to(device)\n",
    "    # Loss and optimizer\n",
    "    criterion = nn.CrossEntropyLoss()\n",
    "    optimizer = torch.optim.Adam(model.parameters(), lr=learning_rate)\n",
    "    # Training loop\n",
    "    total_loss = []\n",
    "    total_accuracy = []\n",
    "    for epoch in range(num_epochs):\n",
    "        train_loss = 0.0\n",
    "\n",
    "        #Training\n",
    "        model.train()\n",
    "        for images, labels in train_loader:\n",
    "            images = images.to(device)\n",
    "            labels = labels.to(device)\n",
    "            #print(images.shape, labels.shape)\n",
    "\n",
    "            # Zero out Gradient\n",
    "            optimizer.zero_grad()\n",
    "\n",
    "            # Forward pass\n",
    "            outputs = model(images)\n",
    "            loss = criterion(outputs, labels)\n",
    "\n",
    "            # Backward pass and optimization\n",
    "            loss.backward()\n",
    "            optimizer.step()\n",
    "            train_loss += loss * images.size(0)\n",
    "\n",
    "        train_loss = train_loss/len(train_loader.sampler)\n",
    "        total_loss.append(train_loss)\n",
    "\n",
    "        #Validation\n",
    "        model.eval()\n",
    "        correct = 0\n",
    "        total = 0\n",
    "        with torch.no_grad():\n",
    "            for images, labels in test_loader:\n",
    "                images = images.to(device)\n",
    "                labels = labels.to(device)\n",
    "                outputs = model(images)\n",
    "                _, predicted = torch.max(outputs.data, 1)\n",
    "                total += labels.size(0)\n",
    "                correct += (predicted == labels).sum().item()\n",
    "        accuracy = 100 * correct / total\n",
    "        total_accuracy.append(accuracy)\n",
    "        \n",
    "        print(f\"Epoch {epoch}; loss: {total_loss[-1]}\")\n",
    "    return total_loss[-1], total_accuracy[-1]"
   ]
  },
  {
   "cell_type": "code",
   "execution_count": 10,
   "metadata": {},
   "outputs": [],
   "source": [
    "# MNIST dataset\n",
    "train_dataset = torchvision.datasets.MNIST(root='../data', train=True, transform=transforms.ToTensor(), download=True)\n",
    "test_dataset = torchvision.datasets.MNIST(root='../data', train=False, transform=transforms.ToTensor())\n",
    "\n",
    "# Data loaders\n",
    "train_loader = torch.utils.data.DataLoader(dataset=train_dataset, batch_size=32, shuffle=True)\n",
    "test_loader = torch.utils.data.DataLoader(dataset=test_dataset, batch_size=32, shuffle=False)"
   ]
  },
  {
   "cell_type": "code",
   "execution_count": 14,
   "metadata": {},
   "outputs": [],
   "source": [
    "model1 = model_class(input_size = 784, output_size = 10, hidden_sizes = [8,16])\n",
    "model2 = model_class(input_size = 784, output_size = 10, hidden_sizes = [16,32])\n",
    "model3 = model_class(input_size = 784, output_size = 10, hidden_sizes = [32,32])\n",
    "model4 = model_class(input_size = 784, output_size = 10, hidden_sizes = [32,64])\n",
    "model5 = model_class(input_size = 784, output_size = 10, hidden_sizes = [64,64])\n",
    "model6 = model_class(input_size = 784, output_size = 10, hidden_sizes = [64,128])\n",
    "model7 = model_class(input_size = 784, output_size = 10, hidden_sizes = [128,128])\n",
    "model8 = model_class(input_size = 784, output_size = 10, hidden_sizes = [128,256])\n",
    "model9 = model_class(input_size = 784, output_size = 10, hidden_sizes = [256,256])\n",
    "model10 = model_class(input_size = 784, output_size = 10, hidden_sizes = [32,128])\n",
    "model11 = model_class(input_size = 784, output_size = 10, hidden_sizes = [8,256])"
   ]
  },
  {
   "cell_type": "code",
   "execution_count": 15,
   "metadata": {},
   "outputs": [
    {
     "name": "stdout",
     "output_type": "stream",
     "text": [
      "Epoch 0; loss: 0.5891664028167725\n",
      "Epoch 1; loss: 0.3248564302921295\n",
      "Epoch 2; loss: 0.2793484628200531\n",
      "Epoch 3; loss: 0.259359747171402\n",
      "Epoch 4; loss: 0.24699658155441284\n",
      "Epoch 5; loss: 0.2368868589401245\n",
      "Epoch 6; loss: 0.23025581240653992\n",
      "Epoch 7; loss: 0.223161980509758\n",
      "Epoch 8; loss: 0.21879766881465912\n",
      "Epoch 9; loss: 0.21467307209968567\n",
      "Epoch 0; loss: 0.4320255219936371\n",
      "Epoch 1; loss: 0.222410649061203\n",
      "Epoch 2; loss: 0.18424832820892334\n",
      "Epoch 3; loss: 0.16522884368896484\n",
      "Epoch 4; loss: 0.15283089876174927\n",
      "Epoch 5; loss: 0.14107444882392883\n",
      "Epoch 6; loss: 0.13168375194072723\n",
      "Epoch 7; loss: 0.12599875032901764\n",
      "Epoch 8; loss: 0.12042626738548279\n",
      "Epoch 9; loss: 0.1143861636519432\n",
      "Epoch 0; loss: 0.406000018119812\n",
      "Epoch 1; loss: 0.20004679262638092\n",
      "Epoch 2; loss: 0.15486837923526764\n",
      "Epoch 3; loss: 0.12847161293029785\n",
      "Epoch 4; loss: 0.11007582396268845\n",
      "Epoch 5; loss: 0.0956868976354599\n",
      "Epoch 6; loss: 0.0862145945429802\n",
      "Epoch 7; loss: 0.07817558944225311\n",
      "Epoch 8; loss: 0.07096607238054276\n",
      "Epoch 9; loss: 0.06416765600442886\n",
      "Epoch 0; loss: 0.37426283955574036\n",
      "Epoch 1; loss: 0.19049234688282013\n",
      "Epoch 2; loss: 0.14151842892169952\n",
      "Epoch 3; loss: 0.1150665208697319\n",
      "Epoch 4; loss: 0.09705939888954163\n",
      "Epoch 5; loss: 0.08401085436344147\n",
      "Epoch 6; loss: 0.0743325799703598\n",
      "Epoch 7; loss: 0.06644479930400848\n",
      "Epoch 8; loss: 0.06060974299907684\n",
      "Epoch 9; loss: 0.055852118879556656\n",
      "Epoch 0; loss: 0.34773164987564087\n",
      "Epoch 1; loss: 0.1557755172252655\n",
      "Epoch 2; loss: 0.10989833623170853\n",
      "Epoch 3; loss: 0.08616804331541061\n",
      "Epoch 4; loss: 0.07020331919193268\n",
      "Epoch 5; loss: 0.059782348573207855\n",
      "Epoch 6; loss: 0.05027154088020325\n",
      "Epoch 7; loss: 0.04419400170445442\n",
      "Epoch 8; loss: 0.037172868847846985\n",
      "Epoch 9; loss: 0.031979210674762726\n",
      "Epoch 0; loss: 0.30232664942741394\n",
      "Epoch 1; loss: 0.13351298868656158\n",
      "Epoch 2; loss: 0.0948345959186554\n",
      "Epoch 3; loss: 0.07486440986394882\n",
      "Epoch 4; loss: 0.06050284579396248\n",
      "Epoch 5; loss: 0.05026954039931297\n",
      "Epoch 6; loss: 0.040884021669626236\n",
      "Epoch 7; loss: 0.03628356009721756\n",
      "Epoch 8; loss: 0.031736984848976135\n",
      "Epoch 9; loss: 0.028247414156794548\n",
      "Epoch 0; loss: 0.27024340629577637\n",
      "Epoch 1; loss: 0.1075538620352745\n",
      "Epoch 2; loss: 0.07536188513040543\n",
      "Epoch 3; loss: 0.055356353521347046\n",
      "Epoch 4; loss: 0.04422060772776604\n",
      "Epoch 5; loss: 0.03526086360216141\n",
      "Epoch 6; loss: 0.029623573645949364\n",
      "Epoch 7; loss: 0.026167936623096466\n",
      "Epoch 8; loss: 0.02113906666636467\n",
      "Epoch 9; loss: 0.018056871369481087\n",
      "Epoch 0; loss: 0.2526020407676697\n",
      "Epoch 1; loss: 0.10332050174474716\n",
      "Epoch 2; loss: 0.07192813605070114\n",
      "Epoch 3; loss: 0.0541345551609993\n",
      "Epoch 4; loss: 0.04101429507136345\n",
      "Epoch 5; loss: 0.03506918251514435\n",
      "Epoch 6; loss: 0.027603408321738243\n",
      "Epoch 7; loss: 0.025765610858798027\n",
      "Epoch 8; loss: 0.021007554605603218\n",
      "Epoch 9; loss: 0.020977964624762535\n",
      "Epoch 0; loss: 0.22684258222579956\n",
      "Epoch 1; loss: 0.08944552391767502\n",
      "Epoch 2; loss: 0.06111173331737518\n",
      "Epoch 3; loss: 0.046724166721105576\n",
      "Epoch 4; loss: 0.035316113382577896\n",
      "Epoch 5; loss: 0.029995670542120934\n",
      "Epoch 6; loss: 0.024690017104148865\n",
      "Epoch 7; loss: 0.02064688317477703\n",
      "Epoch 8; loss: 0.01987043209373951\n",
      "Epoch 9; loss: 0.01793484017252922\n",
      "Epoch 0; loss: 0.3284655213356018\n",
      "Epoch 1; loss: 0.15639132261276245\n",
      "Epoch 2; loss: 0.11922787129878998\n",
      "Epoch 3; loss: 0.09810008108615875\n",
      "Epoch 4; loss: 0.08409835398197174\n",
      "Epoch 5; loss: 0.07350493967533112\n",
      "Epoch 6; loss: 0.06393351405858994\n",
      "Epoch 7; loss: 0.055873893201351166\n",
      "Epoch 8; loss: 0.05041109398007393\n",
      "Epoch 9; loss: 0.04610360041260719\n",
      "Epoch 0; loss: 0.40588104724884033\n",
      "Epoch 1; loss: 0.25370854139328003\n",
      "Epoch 2; loss: 0.2290208786725998\n",
      "Epoch 3; loss: 0.21361595392227173\n",
      "Epoch 4; loss: 0.2038322389125824\n",
      "Epoch 5; loss: 0.19483210146427155\n",
      "Epoch 6; loss: 0.187782421708107\n",
      "Epoch 7; loss: 0.18245810270309448\n",
      "Epoch 8; loss: 0.1781175583600998\n",
      "Epoch 9; loss: 0.173824742436409\n"
     ]
    }
   ],
   "source": [
    "m1_loss, m1_acc = train_eval(model1, num_epochs=10, learning_rate=0.001, train_loader=train_loader\n",
    "                             , test_loader=test_loader)\n",
    "m2_loss, m2_acc = train_eval(model2, num_epochs=10, learning_rate=0.001, train_loader=train_loader\n",
    "                             , test_loader=test_loader)\n",
    "m3_loss, m3_acc = train_eval(model3, num_epochs=10, learning_rate=0.001, train_loader=train_loader\n",
    "                             , test_loader=test_loader)\n",
    "m4_loss, m4_acc = train_eval(model4, num_epochs=10, learning_rate=0.001, train_loader=train_loader\n",
    "                             , test_loader=test_loader)\n",
    "m5_loss, m5_acc = train_eval(model5, num_epochs=10, learning_rate=0.001, train_loader=train_loader\n",
    "                             , test_loader=test_loader)\n",
    "m6_loss, m6_acc = train_eval(model6, num_epochs=10, learning_rate=0.001, train_loader=train_loader\n",
    "                             , test_loader=test_loader)\n",
    "m7_loss, m7_acc = train_eval(model7, num_epochs=10, learning_rate=0.001, train_loader=train_loader\n",
    "                             , test_loader=test_loader)\n",
    "m8_loss, m8_acc = train_eval(model8, num_epochs=10, learning_rate=0.001, train_loader=train_loader\n",
    "                             , test_loader=test_loader)\n",
    "m9_loss, m9_acc = train_eval(model9, num_epochs=10, learning_rate=0.001, train_loader=train_loader\n",
    "                             , test_loader=test_loader)\n",
    "m10_loss, m10_acc = train_eval(model10, num_epochs=10, learning_rate=0.001, train_loader=train_loader\n",
    "                             , test_loader=test_loader)\n",
    "m11_loss, m11_acc = train_eval(model11, num_epochs=10, learning_rate=0.001, train_loader=train_loader\n",
    "                             , test_loader=test_loader)"
   ]
  },
  {
   "cell_type": "code",
   "execution_count": 13,
   "metadata": {},
   "outputs": [
    {
     "name": "stdout",
     "output_type": "stream",
     "text": [
      "loss: 0.22479446232318878; accuracy: 93.17\n"
     ]
    }
   ],
   "source": [
    "print(f\"loss: {m1_loss}; accuracy: {m1_acc}\")"
   ]
  },
  {
   "cell_type": "code",
   "execution_count": 27,
   "metadata": {},
   "outputs": [],
   "source": [
    "loss_vec = [m1_loss,m2_loss,m3_loss,m4_loss,m5_loss,m6_loss,m7_loss,m8_loss,m9_loss,m10_loss,m11_loss]\n",
    "loss_vec = np.array([x.detach().cpu().numpy() for x in loss_vec])\n",
    "acc_vec = np.array([m1_acc,m2_acc,m3_acc,m4_acc,m5_acc,m6_acc,m7_acc,m8_acc,m9_acc,m10_acc,m11_acc])"
   ]
  },
  {
   "cell_type": "code",
   "execution_count": 22,
   "metadata": {},
   "outputs": [
    {
     "data": {
      "text/plain": [
       "array([  6594,  13434,  26506,  27882,  55050,  59850, 118282, 136074,\n",
       "       269322,  30634,  11154])"
      ]
     },
     "execution_count": 22,
     "metadata": {},
     "output_type": "execute_result"
    }
   ],
   "source": [
    "models = [model1,model2,model3,model4,model5,model6,model7,model8,model9,model10,model11]\n",
    "parameters = []\n",
    "for model in models:\n",
    "    parameters.append(np.array(sum(p.numel() for p in model.parameters())))\n",
    "parameters = np.array(parameters)\n",
    "parameters"
   ]
  },
  {
   "cell_type": "code",
   "execution_count": 28,
   "metadata": {},
   "outputs": [
    {
     "data": {
      "text/plain": [
       "array([0.21467307, 0.11438616, 0.06416766, 0.05585212, 0.03197921,\n",
       "       0.02824741, 0.01805687, 0.02097796, 0.01793484, 0.0461036 ,\n",
       "       0.17382474], dtype=float32)"
      ]
     },
     "execution_count": 28,
     "metadata": {},
     "output_type": "execute_result"
    }
   ],
   "source": [
    "loss_vec"
   ]
  },
  {
   "cell_type": "code",
   "execution_count": 31,
   "metadata": {},
   "outputs": [
    {
     "data": {
      "image/png": "[encoded data removed]",
      "text/plain": [
       "<Figure size 640x480 with 1 Axes>"
      ]
     },
     "metadata": {},
     "output_type": "display_data"
    },
    {
     "data": {
      "image/png": "[encoded data removed]",
      "text/plain": [
       "<Figure size 640x480 with 1 Axes>"
      ]
     },
     "metadata": {},
     "output_type": "display_data"
    }
   ],
   "source": [
    "plt.scatter(parameters, loss_vec)\n",
    "plt.show()\n",
    "plt.scatter(parameters, acc_vec)\n",
    "plt.show()"
   ]
  },
  {
   "cell_type": "code",
   "execution_count": 39,
   "metadata": {},
   "outputs": [],
   "source": [
    "#Validation\n",
    "test_acc_vec = []\n",
    "for model in models:\n",
    "    model.eval()\n",
    "    correct = 0\n",
    "    total = 0\n",
    "    with torch.no_grad():\n",
    "        for images, labels in test_loader:\n",
    "            images = images.to(device)\n",
    "            labels = labels.to(device)\n",
    "            outputs = model(images)\n",
    "            _, predicted = torch.max(outputs.data, 1)\n",
    "            total += labels.size(0)\n",
    "            correct += (predicted == labels).sum().item()\n",
    "    accuracy = 100 * correct / total\n",
    "    test_acc_vec.append(accuracy)"
   ]
  },
  {
   "cell_type": "code",
   "execution_count": 40,
   "metadata": {},
   "outputs": [],
   "source": [
    "#Validation\n",
    "train_acc_vec = []\n",
    "for model in models:\n",
    "    model.eval()\n",
    "    correct = 0\n",
    "    total = 0\n",
    "    with torch.no_grad():\n",
    "        for images, labels in train_loader:\n",
    "            images = images.to(device)\n",
    "            labels = labels.to(device)\n",
    "            outputs = model(images)\n",
    "            _, predicted = torch.max(outputs.data, 1)\n",
    "            total += labels.size(0)\n",
    "            correct += (predicted == labels).sum().item()\n",
    "    accuracy = 100 * correct / total\n",
    "    train_acc_vec.append(accuracy)"
   ]
  },
  {
   "cell_type": "code",
   "execution_count": 43,
   "metadata": {},
   "outputs": [
    {
     "data": {
      "image/png": "[encoded data removed]",
      "text/plain": [
       "<Figure size 640x480 with 1 Axes>"
      ]
     },
     "metadata": {},
     "output_type": "display_data"
    }
   ],
   "source": [
    "plt.scatter(parameters, train_acc_vec,  c = \"blue\", label = \"train accuracy\")\n",
    "plt.scatter(parameters, test_acc_vec, c = \"orange\", label = \"test accuracy\")\n",
    "plt.legend()\n",
    "plt.show()"
   ]
  },
  {
   "cell_type": "code",
   "execution_count": 47,
   "metadata": {},
   "outputs": [],
   "source": [
    "criterion = nn.CrossEntropyLoss()\n",
    "train_loss_vec = []\n",
    "for model in models:\n",
    "    train_loss = 0.0\n",
    "\n",
    "    #Training\n",
    "    model.eval()\n",
    "    with torch.no_grad():\n",
    "        for images, labels in train_loader:\n",
    "            images = images.to(device)\n",
    "            labels = labels.to(device)\n",
    "            #print(images.shape, labels.shape)\n",
    "\n",
    "            # Forward pass\n",
    "            outputs = model(images)\n",
    "            loss = criterion(outputs, labels)\n",
    "\n",
    "            train_loss += loss * images.size(0)\n",
    "\n",
    "    train_loss = train_loss/len(train_loader.sampler)\n",
    "    train_loss_vec.append(train_loss)"
   ]
  },
  {
   "cell_type": "code",
   "execution_count": 48,
   "metadata": {},
   "outputs": [],
   "source": [
    "criterion = nn.CrossEntropyLoss()\n",
    "test_loss_vec = []\n",
    "for model in models:\n",
    "    test_loss = 0.0\n",
    "\n",
    "    #Training\n",
    "    model.eval()\n",
    "    with torch.no_grad():\n",
    "        for images, labels in test_loader:\n",
    "            images = images.to(device)\n",
    "            labels = labels.to(device)\n",
    "            #print(images.shape, labels.shape)\n",
    "\n",
    "            # Forward pass\n",
    "            outputs = model(images)\n",
    "            loss = criterion(outputs, labels)\n",
    "\n",
    "            test_loss += loss * images.size(0)\n",
    "\n",
    "    test_loss = test_loss/len(test_loader.sampler)\n",
    "    test_loss_vec.append(test_loss)"
   ]
  },
  {
   "cell_type": "code",
   "execution_count": 49,
   "metadata": {},
   "outputs": [],
   "source": [
    "train_loss_vec = np.array([x.detach().cpu().numpy() for x in train_loss_vec])\n",
    "test_loss_vec = np.array([x.detach().cpu().numpy() for x in test_loss_vec])"
   ]
  },
  {
   "cell_type": "code",
   "execution_count": 50,
   "metadata": {},
   "outputs": [
    {
     "data": {
      "image/png": "[encoded data removed]",
      "text/plain": [
       "<Figure size 640x480 with 1 Axes>"
      ]
     },
     "metadata": {},
     "output_type": "display_data"
    }
   ],
   "source": [
    "plt.scatter(parameters, train_loss_vec,  c = \"blue\", label = \"train loss\")\n",
    "plt.scatter(parameters, test_loss_vec, c = \"orange\", label = \"test loss\")\n",
    "plt.legend()\n",
    "plt.show()"
   ]
  }
 ],
 "metadata": {
  "kernelspec": {
   "display_name": "py311env",
   "language": "python",
   "name": "python3"
  },
  "language_info": {
   "codemirror_mode": {
    "name": "ipython",
    "version": 3
   },
   "file_extension": ".py",
   "mimetype": "text/x-python",
   "name": "python",
   "nbconvert_exporter": "python",
   "pygments_lexer": "ipython3",
   "version": "3.11.6"
  }
 },
 "nbformat": 4,
 "nbformat_minor": 2
}
